{
 "cells": [
  {
   "cell_type": "markdown",
   "metadata": {},
   "source": [
    "# Email Spam Classifier"
   ]
  },
  {
   "cell_type": "code",
   "execution_count": 1,
   "metadata": {},
   "outputs": [],
   "source": [
    "import numpy as np\n",
    "import pandas as pd\n",
    "import matplotlib.pyplot as plt\n",
    "import seaborn as sns\n",
    "import sklearn\n",
    "import tensorflow as tf"
   ]
  },
  {
   "cell_type": "code",
   "execution_count": 2,
   "metadata": {},
   "outputs": [],
   "source": [
    "from tensorflow import keras"
   ]
  },
  {
   "cell_type": "code",
   "execution_count": 3,
   "metadata": {},
   "outputs": [],
   "source": [
    "from sklearn.model_selection import train_test_split"
   ]
  },
  {
   "cell_type": "code",
   "execution_count": 4,
   "metadata": {},
   "outputs": [],
   "source": [
    "df=pd.read_csv(\"emails.csv.zip\")\n",
    "df.set_index(\"Email No.\",inplace=True)"
   ]
  },
  {
   "cell_type": "code",
   "execution_count": 5,
   "metadata": {},
   "outputs": [
    {
     "data": {
      "text/html": [
       "<div>\n",
       "<style scoped>\n",
       "    .dataframe tbody tr th:only-of-type {\n",
       "        vertical-align: middle;\n",
       "    }\n",
       "\n",
       "    .dataframe tbody tr th {\n",
       "        vertical-align: top;\n",
       "    }\n",
       "\n",
       "    .dataframe thead th {\n",
       "        text-align: right;\n",
       "    }\n",
       "</style>\n",
       "<table border=\"1\" class=\"dataframe\">\n",
       "  <thead>\n",
       "    <tr style=\"text-align: right;\">\n",
       "      <th></th>\n",
       "      <th>the</th>\n",
       "      <th>to</th>\n",
       "      <th>ect</th>\n",
       "      <th>and</th>\n",
       "      <th>for</th>\n",
       "      <th>of</th>\n",
       "      <th>a</th>\n",
       "      <th>you</th>\n",
       "      <th>hou</th>\n",
       "      <th>in</th>\n",
       "      <th>...</th>\n",
       "      <th>connevey</th>\n",
       "      <th>jay</th>\n",
       "      <th>valued</th>\n",
       "      <th>lay</th>\n",
       "      <th>infrastructure</th>\n",
       "      <th>military</th>\n",
       "      <th>allowing</th>\n",
       "      <th>ff</th>\n",
       "      <th>dry</th>\n",
       "      <th>Prediction</th>\n",
       "    </tr>\n",
       "    <tr>\n",
       "      <th>Email No.</th>\n",
       "      <th></th>\n",
       "      <th></th>\n",
       "      <th></th>\n",
       "      <th></th>\n",
       "      <th></th>\n",
       "      <th></th>\n",
       "      <th></th>\n",
       "      <th></th>\n",
       "      <th></th>\n",
       "      <th></th>\n",
       "      <th></th>\n",
       "      <th></th>\n",
       "      <th></th>\n",
       "      <th></th>\n",
       "      <th></th>\n",
       "      <th></th>\n",
       "      <th></th>\n",
       "      <th></th>\n",
       "      <th></th>\n",
       "      <th></th>\n",
       "      <th></th>\n",
       "    </tr>\n",
       "  </thead>\n",
       "  <tbody>\n",
       "    <tr>\n",
       "      <th>Email 1</th>\n",
       "      <td>0</td>\n",
       "      <td>0</td>\n",
       "      <td>1</td>\n",
       "      <td>0</td>\n",
       "      <td>0</td>\n",
       "      <td>0</td>\n",
       "      <td>2</td>\n",
       "      <td>0</td>\n",
       "      <td>0</td>\n",
       "      <td>0</td>\n",
       "      <td>...</td>\n",
       "      <td>0</td>\n",
       "      <td>0</td>\n",
       "      <td>0</td>\n",
       "      <td>0</td>\n",
       "      <td>0</td>\n",
       "      <td>0</td>\n",
       "      <td>0</td>\n",
       "      <td>0</td>\n",
       "      <td>0</td>\n",
       "      <td>0</td>\n",
       "    </tr>\n",
       "    <tr>\n",
       "      <th>Email 2</th>\n",
       "      <td>8</td>\n",
       "      <td>13</td>\n",
       "      <td>24</td>\n",
       "      <td>6</td>\n",
       "      <td>6</td>\n",
       "      <td>2</td>\n",
       "      <td>102</td>\n",
       "      <td>1</td>\n",
       "      <td>27</td>\n",
       "      <td>18</td>\n",
       "      <td>...</td>\n",
       "      <td>0</td>\n",
       "      <td>0</td>\n",
       "      <td>0</td>\n",
       "      <td>0</td>\n",
       "      <td>0</td>\n",
       "      <td>0</td>\n",
       "      <td>0</td>\n",
       "      <td>1</td>\n",
       "      <td>0</td>\n",
       "      <td>0</td>\n",
       "    </tr>\n",
       "    <tr>\n",
       "      <th>Email 3</th>\n",
       "      <td>0</td>\n",
       "      <td>0</td>\n",
       "      <td>1</td>\n",
       "      <td>0</td>\n",
       "      <td>0</td>\n",
       "      <td>0</td>\n",
       "      <td>8</td>\n",
       "      <td>0</td>\n",
       "      <td>0</td>\n",
       "      <td>4</td>\n",
       "      <td>...</td>\n",
       "      <td>0</td>\n",
       "      <td>0</td>\n",
       "      <td>0</td>\n",
       "      <td>0</td>\n",
       "      <td>0</td>\n",
       "      <td>0</td>\n",
       "      <td>0</td>\n",
       "      <td>0</td>\n",
       "      <td>0</td>\n",
       "      <td>0</td>\n",
       "    </tr>\n",
       "    <tr>\n",
       "      <th>Email 4</th>\n",
       "      <td>0</td>\n",
       "      <td>5</td>\n",
       "      <td>22</td>\n",
       "      <td>0</td>\n",
       "      <td>5</td>\n",
       "      <td>1</td>\n",
       "      <td>51</td>\n",
       "      <td>2</td>\n",
       "      <td>10</td>\n",
       "      <td>1</td>\n",
       "      <td>...</td>\n",
       "      <td>0</td>\n",
       "      <td>0</td>\n",
       "      <td>0</td>\n",
       "      <td>0</td>\n",
       "      <td>0</td>\n",
       "      <td>0</td>\n",
       "      <td>0</td>\n",
       "      <td>0</td>\n",
       "      <td>0</td>\n",
       "      <td>0</td>\n",
       "    </tr>\n",
       "    <tr>\n",
       "      <th>Email 5</th>\n",
       "      <td>7</td>\n",
       "      <td>6</td>\n",
       "      <td>17</td>\n",
       "      <td>1</td>\n",
       "      <td>5</td>\n",
       "      <td>2</td>\n",
       "      <td>57</td>\n",
       "      <td>0</td>\n",
       "      <td>9</td>\n",
       "      <td>3</td>\n",
       "      <td>...</td>\n",
       "      <td>0</td>\n",
       "      <td>0</td>\n",
       "      <td>0</td>\n",
       "      <td>0</td>\n",
       "      <td>0</td>\n",
       "      <td>0</td>\n",
       "      <td>0</td>\n",
       "      <td>1</td>\n",
       "      <td>0</td>\n",
       "      <td>0</td>\n",
       "    </tr>\n",
       "  </tbody>\n",
       "</table>\n",
       "<p>5 rows × 3001 columns</p>\n",
       "</div>"
      ],
      "text/plain": [
       "           the  to  ect  and  for  of    a  you  hou  in  ...  connevey  jay  \\\n",
       "Email No.                                                 ...                  \n",
       "Email 1      0   0    1    0    0   0    2    0    0   0  ...         0    0   \n",
       "Email 2      8  13   24    6    6   2  102    1   27  18  ...         0    0   \n",
       "Email 3      0   0    1    0    0   0    8    0    0   4  ...         0    0   \n",
       "Email 4      0   5   22    0    5   1   51    2   10   1  ...         0    0   \n",
       "Email 5      7   6   17    1    5   2   57    0    9   3  ...         0    0   \n",
       "\n",
       "           valued  lay  infrastructure  military  allowing  ff  dry  \\\n",
       "Email No.                                                             \n",
       "Email 1         0    0               0         0         0   0    0   \n",
       "Email 2         0    0               0         0         0   1    0   \n",
       "Email 3         0    0               0         0         0   0    0   \n",
       "Email 4         0    0               0         0         0   0    0   \n",
       "Email 5         0    0               0         0         0   1    0   \n",
       "\n",
       "           Prediction  \n",
       "Email No.              \n",
       "Email 1             0  \n",
       "Email 2             0  \n",
       "Email 3             0  \n",
       "Email 4             0  \n",
       "Email 5             0  \n",
       "\n",
       "[5 rows x 3001 columns]"
      ]
     },
     "execution_count": 5,
     "metadata": {},
     "output_type": "execute_result"
    }
   ],
   "source": [
    "df.head()"
   ]
  },
  {
   "cell_type": "markdown",
   "metadata": {},
   "source": [
    "In the data set, there are 3000 features which are the frquency of common words in email.\n",
    "<br />The last columns is the prediction whether the email is spam or not.\n",
    "<br />0 - not spam\n",
    "<br />1 - spam"
   ]
  },
  {
   "cell_type": "code",
   "execution_count": 6,
   "metadata": {},
   "outputs": [],
   "source": [
    "#Split the whole dataset into feature matrix and prediction target\n",
    "X=df[[feature for feature in list(df.columns) if feature!=\"Prediction\"]]\n",
    "y=df[\"Prediction\"]"
   ]
  },
  {
   "cell_type": "code",
   "execution_count": 7,
   "metadata": {},
   "outputs": [
    {
     "name": "stdout",
     "output_type": "stream",
     "text": [
      "0\n"
     ]
    }
   ],
   "source": [
    "#check if there is missing value in feature matrix\n",
    "count_is_missing=0\n",
    "for feature in X.columns:\n",
    "    if X[feature].isnull().sum()>0:\n",
    "        count_is_missing+=1\n",
    "print(count_is_missing)"
   ]
  },
  {
   "cell_type": "code",
   "execution_count": 8,
   "metadata": {},
   "outputs": [],
   "source": [
    "#There is no missing data"
   ]
  },
  {
   "cell_type": "markdown",
   "metadata": {},
   "source": [
    "## Exploratory data analysis and Feature Engineering"
   ]
  },
  {
   "cell_type": "markdown",
   "metadata": {},
   "source": [
    "There are different kinds of words in the feature. I would like to split the words into 2 categories first.\n",
    "<br /> single_word - word with only one character\n",
    "<br /> multiple_word - word with more than one character\n",
    "<br />It is more common to see word with more than one character"
   ]
  },
  {
   "cell_type": "code",
   "execution_count": 9,
   "metadata": {},
   "outputs": [],
   "source": [
    "single_word=[]\n",
    "multiple_word=[]\n",
    "for feature in X.columns:\n",
    "    if len(feature)==1:\n",
    "        single_word.append(feature)\n",
    "    else:\n",
    "        multiple_word.append(feature)"
   ]
  },
  {
   "cell_type": "markdown",
   "metadata": {},
   "source": [
    "The proportion of spam emails"
   ]
  },
  {
   "cell_type": "code",
   "execution_count": 10,
   "metadata": {},
   "outputs": [
    {
     "data": {
      "text/plain": [
       "0.2900232018561485"
      ]
     },
     "execution_count": 10,
     "metadata": {},
     "output_type": "execute_result"
    }
   ],
   "source": [
    "sum(y)/len(y)"
   ]
  },
  {
   "cell_type": "markdown",
   "metadata": {},
   "source": [
    "There are about 30% of spam emails"
   ]
  },
  {
   "cell_type": "markdown",
   "metadata": {},
   "source": [
    "Filter out the columns which have low standard deviation,ie standard deviation < 1.\n",
    "<br />The words which seldomly appear are not significant."
   ]
  },
  {
   "cell_type": "code",
   "execution_count": 11,
   "metadata": {},
   "outputs": [
    {
     "name": "stdout",
     "output_type": "stream",
     "text": [
      "0\n"
     ]
    }
   ],
   "source": [
    "count_single_word_ls=0\n",
    "for feature in single_word:\n",
    "    if X[feature].std()<1:\n",
    "        count_single_word_ls+=1\n",
    "print(count_single_word_ls)"
   ]
  },
  {
   "cell_type": "markdown",
   "metadata": {},
   "source": [
    "All words will single character do not have low standard deviation."
   ]
  },
  {
   "cell_type": "code",
   "execution_count": 12,
   "metadata": {},
   "outputs": [
    {
     "name": "stdout",
     "output_type": "stream",
     "text": [
      "2724\n"
     ]
    }
   ],
   "source": [
    "count_multiple_word_hs=0\n",
    "for feature in multiple_word:\n",
    "    if X[feature].std()<1:\n",
    "        count_multiple_word_hs+=1\n",
    "print(count_multiple_word_hs)"
   ]
  },
  {
   "cell_type": "markdown",
   "metadata": {},
   "source": [
    "There are 2724 words which seldomly apperar. They will not be considered now."
   ]
  },
  {
   "cell_type": "code",
   "execution_count": 13,
   "metadata": {},
   "outputs": [],
   "source": [
    "multiple_word_hs=[]\n",
    "for feature in multiple_word:\n",
    "    if df[feature].std()>=1:\n",
    "        multiple_word_hs.append(feature)"
   ]
  },
  {
   "cell_type": "code",
   "execution_count": 15,
   "metadata": {},
   "outputs": [],
   "source": [
    "feature=single_word+multiple_word_hs"
   ]
  },
  {
   "cell_type": "markdown",
   "metadata": {},
   "source": [
    "The words which are single character and mutiple character of frequency with high standard deviation will be used as the feature"
   ]
  },
  {
   "cell_type": "markdown",
   "metadata": {},
   "source": [
    "## Modelling"
   ]
  },
  {
   "cell_type": "markdown",
   "metadata": {},
   "source": [
    "Try diffrent models to build the classifier"
   ]
  },
  {
   "cell_type": "markdown",
   "metadata": {},
   "source": [
    "### Deep Neural Network"
   ]
  },
  {
   "cell_type": "markdown",
   "metadata": {},
   "source": [
    "Split the dataset into training set and testing set"
   ]
  },
  {
   "cell_type": "code",
   "execution_count": 16,
   "metadata": {},
   "outputs": [],
   "source": [
    "#pick columns from X with selected feature\n",
    "X_=X[feature]"
   ]
  },
  {
   "cell_type": "code",
   "execution_count": 17,
   "metadata": {},
   "outputs": [],
   "source": [
    "#train test split\n",
    "#stratify to make sure training set and testing set with similar distribution for emails\n",
    "X_train, X_test, y_train, y_test = train_test_split(X_, y,test_size=0.2,stratify=y)"
   ]
  },
  {
   "cell_type": "code",
   "execution_count": 20,
   "metadata": {},
   "outputs": [],
   "source": [
    "#run the deep nerual network\n",
    "model = keras.models.Sequential()\n",
    "model.add(keras.layers.Flatten(input_shape=[len(X_.columns)]))\n",
    "model.add(keras.layers.Dense(200, activation = \"relu\"))\n",
    "model.add(keras.layers.Dense(100, activation = \"relu\"))\n",
    "model.add(keras.layers.Dense(1, activation = \"sigmoid\"))\n",
    "model.compile(loss = \"binary_crossentropy\",optimizer = \"sgd\",metrics=[\"accuracy\"])"
   ]
  },
  {
   "cell_type": "code",
   "execution_count": 21,
   "metadata": {},
   "outputs": [
    {
     "name": "stdout",
     "output_type": "stream",
     "text": [
      "Epoch 1/50\n",
      "130/130 [==============================] - 1s 2ms/step - loss: 2.5134 - accuracy: 0.6388 - val_loss: 0.5564 - val_accuracy: 0.7710\n",
      "Epoch 2/50\n",
      "130/130 [==============================] - 0s 1ms/step - loss: 0.4646 - accuracy: 0.7937 - val_loss: 0.5704 - val_accuracy: 0.7749\n",
      "Epoch 3/50\n",
      "130/130 [==============================] - 0s 1ms/step - loss: 0.3987 - accuracy: 0.8245 - val_loss: 0.4461 - val_accuracy: 0.8406\n",
      "Epoch 4/50\n",
      "130/130 [==============================] - 0s 1ms/step - loss: 0.3706 - accuracy: 0.8291 - val_loss: 0.3581 - val_accuracy: 0.8551\n",
      "Epoch 5/50\n",
      "130/130 [==============================] - 0s 1ms/step - loss: 0.3569 - accuracy: 0.8328 - val_loss: 0.5029 - val_accuracy: 0.7961\n",
      "Epoch 6/50\n",
      "130/130 [==============================] - 0s 1ms/step - loss: 0.3180 - accuracy: 0.8509 - val_loss: 0.3434 - val_accuracy: 0.8599\n",
      "Epoch 7/50\n",
      "130/130 [==============================] - 0s 1ms/step - loss: 0.3479 - accuracy: 0.8333 - val_loss: 0.5021 - val_accuracy: 0.8251\n",
      "Epoch 8/50\n",
      "130/130 [==============================] - 0s 1ms/step - loss: 0.4033 - accuracy: 0.8276 - val_loss: 0.2883 - val_accuracy: 0.8792\n",
      "Epoch 9/50\n",
      "130/130 [==============================] - 0s 1ms/step - loss: 0.3010 - accuracy: 0.8646 - val_loss: 0.4758 - val_accuracy: 0.7739\n",
      "Epoch 10/50\n",
      "130/130 [==============================] - 0s 1ms/step - loss: 0.2675 - accuracy: 0.8846 - val_loss: 0.3092 - val_accuracy: 0.8725\n",
      "Epoch 11/50\n",
      "130/130 [==============================] - 0s 1ms/step - loss: 0.3795 - accuracy: 0.8379 - val_loss: 0.6531 - val_accuracy: 0.7845\n",
      "Epoch 12/50\n",
      "130/130 [==============================] - 0s 1ms/step - loss: 0.6433 - accuracy: 0.7420 - val_loss: 0.4690 - val_accuracy: 0.8135\n",
      "Epoch 13/50\n",
      "130/130 [==============================] - 0s 1ms/step - loss: 0.4180 - accuracy: 0.7935 - val_loss: 0.3608 - val_accuracy: 0.8618\n",
      "Epoch 14/50\n",
      "130/130 [==============================] - 0s 1ms/step - loss: 0.4878 - accuracy: 0.7983 - val_loss: 0.3429 - val_accuracy: 0.8019\n",
      "Epoch 15/50\n",
      "130/130 [==============================] - 0s 1ms/step - loss: 0.3372 - accuracy: 0.8326 - val_loss: 0.2821 - val_accuracy: 0.8763\n",
      "Epoch 16/50\n",
      "130/130 [==============================] - 0s 1ms/step - loss: 0.3739 - accuracy: 0.8415 - val_loss: 0.3165 - val_accuracy: 0.8357\n",
      "Epoch 17/50\n",
      "130/130 [==============================] - 0s 1ms/step - loss: 0.3348 - accuracy: 0.8523 - val_loss: 0.2727 - val_accuracy: 0.8792\n",
      "Epoch 18/50\n",
      "130/130 [==============================] - 0s 1ms/step - loss: 0.3187 - accuracy: 0.8575 - val_loss: 0.2539 - val_accuracy: 0.8870\n",
      "Epoch 19/50\n",
      "130/130 [==============================] - 0s 1ms/step - loss: 0.2961 - accuracy: 0.8702 - val_loss: 0.2639 - val_accuracy: 0.8744\n",
      "Epoch 20/50\n",
      "130/130 [==============================] - 0s 1ms/step - loss: 0.2889 - accuracy: 0.8675 - val_loss: 0.4214 - val_accuracy: 0.8097\n",
      "Epoch 21/50\n",
      "130/130 [==============================] - 0s 1ms/step - loss: 0.2613 - accuracy: 0.8825 - val_loss: 0.4940 - val_accuracy: 0.8203\n",
      "Epoch 22/50\n",
      "130/130 [==============================] - 0s 1ms/step - loss: 0.2625 - accuracy: 0.8710 - val_loss: 0.3645 - val_accuracy: 0.8464\n",
      "Epoch 23/50\n",
      "130/130 [==============================] - 0s 1ms/step - loss: 0.2797 - accuracy: 0.8808 - val_loss: 0.2996 - val_accuracy: 0.8937\n",
      "Epoch 24/50\n",
      "130/130 [==============================] - 0s 1ms/step - loss: 0.2797 - accuracy: 0.8733 - val_loss: 0.6259 - val_accuracy: 0.7227\n",
      "Epoch 25/50\n",
      "130/130 [==============================] - 0s 1ms/step - loss: 0.4505 - accuracy: 0.8190 - val_loss: 0.3855 - val_accuracy: 0.7623\n",
      "Epoch 26/50\n",
      "130/130 [==============================] - 0s 1ms/step - loss: 0.3328 - accuracy: 0.8245 - val_loss: 0.3429 - val_accuracy: 0.8705\n",
      "Epoch 27/50\n",
      "130/130 [==============================] - 0s 1ms/step - loss: 0.2562 - accuracy: 0.8859 - val_loss: 1.0052 - val_accuracy: 0.7353\n",
      "Epoch 28/50\n",
      "130/130 [==============================] - 0s 1ms/step - loss: 0.2777 - accuracy: 0.8889 - val_loss: 0.2291 - val_accuracy: 0.8986\n",
      "Epoch 29/50\n",
      "130/130 [==============================] - 0s 1ms/step - loss: 0.2362 - accuracy: 0.9007 - val_loss: 0.4322 - val_accuracy: 0.8184\n",
      "Epoch 30/50\n",
      "130/130 [==============================] - 0s 1ms/step - loss: 0.2389 - accuracy: 0.8975 - val_loss: 0.2256 - val_accuracy: 0.8928\n",
      "Epoch 31/50\n",
      "130/130 [==============================] - 0s 1ms/step - loss: 0.3030 - accuracy: 0.8895 - val_loss: 0.2160 - val_accuracy: 0.9159\n",
      "Epoch 32/50\n",
      "130/130 [==============================] - 0s 1ms/step - loss: 0.2290 - accuracy: 0.9002 - val_loss: 0.5749 - val_accuracy: 0.6763\n",
      "Epoch 33/50\n",
      "130/130 [==============================] - 0s 1ms/step - loss: 0.3908 - accuracy: 0.8394 - val_loss: 0.3206 - val_accuracy: 0.9005\n",
      "Epoch 34/50\n",
      "130/130 [==============================] - 0s 1ms/step - loss: 0.2227 - accuracy: 0.9075 - val_loss: 0.2394 - val_accuracy: 0.9092\n",
      "Epoch 35/50\n",
      "130/130 [==============================] - 0s 1ms/step - loss: 0.3469 - accuracy: 0.8791 - val_loss: 0.2212 - val_accuracy: 0.9053\n",
      "Epoch 36/50\n",
      "130/130 [==============================] - 0s 1ms/step - loss: 0.2041 - accuracy: 0.9113 - val_loss: 0.2383 - val_accuracy: 0.9014\n",
      "Epoch 37/50\n",
      "130/130 [==============================] - 0s 1ms/step - loss: 0.2465 - accuracy: 0.8943 - val_loss: 0.2572 - val_accuracy: 0.8908\n",
      "Epoch 38/50\n",
      "130/130 [==============================] - 0s 1ms/step - loss: 0.3247 - accuracy: 0.8724 - val_loss: 0.2751 - val_accuracy: 0.8986\n",
      "Epoch 39/50\n",
      "130/130 [==============================] - 0s 1ms/step - loss: 0.2452 - accuracy: 0.8947 - val_loss: 0.2071 - val_accuracy: 0.9140\n",
      "Epoch 40/50\n",
      "130/130 [==============================] - 0s 1ms/step - loss: 0.2032 - accuracy: 0.9147 - val_loss: 0.2153 - val_accuracy: 0.9198\n",
      "Epoch 41/50\n",
      "130/130 [==============================] - 0s 1ms/step - loss: 0.2013 - accuracy: 0.9158 - val_loss: 0.2053 - val_accuracy: 0.9179\n",
      "Epoch 42/50\n",
      "130/130 [==============================] - 0s 1ms/step - loss: 0.1823 - accuracy: 0.9228 - val_loss: 0.2763 - val_accuracy: 0.8812\n",
      "Epoch 43/50\n",
      "130/130 [==============================] - 0s 1ms/step - loss: 0.1912 - accuracy: 0.9222 - val_loss: 0.2490 - val_accuracy: 0.9063\n",
      "Epoch 44/50\n",
      "130/130 [==============================] - 0s 1ms/step - loss: 0.1785 - accuracy: 0.9251 - val_loss: 0.2101 - val_accuracy: 0.9179\n",
      "Epoch 45/50\n",
      "130/130 [==============================] - 0s 1ms/step - loss: 0.1648 - accuracy: 0.9263 - val_loss: 0.2680 - val_accuracy: 0.9034\n",
      "Epoch 46/50\n",
      "130/130 [==============================] - 0s 1ms/step - loss: 0.1925 - accuracy: 0.9200 - val_loss: 0.2207 - val_accuracy: 0.9140\n",
      "Epoch 47/50\n",
      "130/130 [==============================] - 0s 1ms/step - loss: 0.3708 - accuracy: 0.9042 - val_loss: 0.2712 - val_accuracy: 0.9034\n",
      "Epoch 48/50\n",
      "130/130 [==============================] - 0s 1ms/step - loss: 0.5661 - accuracy: 0.6802 - val_loss: 0.3173 - val_accuracy: 0.8657\n",
      "Epoch 49/50\n",
      "130/130 [==============================] - 0s 1ms/step - loss: 0.2981 - accuracy: 0.8854 - val_loss: 0.2040 - val_accuracy: 0.9227\n",
      "Epoch 50/50\n",
      "130/130 [==============================] - 0s 1ms/step - loss: 0.2092 - accuracy: 0.9235 - val_loss: 0.2144 - val_accuracy: 0.9188\n"
     ]
    },
    {
     "data": {
      "text/plain": [
       "<tensorflow.python.keras.callbacks.History at 0x7fd59fb994c0>"
      ]
     },
     "execution_count": 21,
     "metadata": {},
     "output_type": "execute_result"
    }
   ],
   "source": [
    "model.fit(X_train,y_train,epochs=50,validation_data=(X_test,y_test))"
   ]
  },
  {
   "cell_type": "markdown",
   "metadata": {},
   "source": [
    "**The validation accuracy of deep neural network is 0.9188**"
   ]
  },
  {
   "cell_type": "code",
   "execution_count": 24,
   "metadata": {},
   "outputs": [],
   "source": [
    "#run the deep nerual network with another merics\n",
    "#area under roc curve\n",
    "model = keras.models.Sequential()\n",
    "model.add(keras.layers.Flatten(input_shape=[len(X_.columns)]))\n",
    "model.add(keras.layers.Dense(200, activation = \"relu\"))\n",
    "model.add(keras.layers.Dense(100, activation = \"relu\"))\n",
    "model.add(keras.layers.Dense(1, activation = \"sigmoid\"))\n",
    "model.compile(loss = \"binary_crossentropy\",optimizer = \"sgd\",metrics=[tf.keras.metrics.AUC()])"
   ]
  },
  {
   "cell_type": "code",
   "execution_count": 23,
   "metadata": {},
   "outputs": [
    {
     "name": "stdout",
     "output_type": "stream",
     "text": [
      "Epoch 1/50\n",
      "130/130 [==============================] - 1s 3ms/step - loss: 3.5159 - auc: 0.5894 - val_loss: 0.6457 - val_auc: 0.6286\n",
      "Epoch 2/50\n",
      "130/130 [==============================] - 0s 1ms/step - loss: 0.5205 - auc: 0.7983 - val_loss: 0.4251 - val_auc: 0.8879\n",
      "Epoch 3/50\n",
      "130/130 [==============================] - 0s 1ms/step - loss: 0.4400 - auc: 0.8588 - val_loss: 0.4935 - val_auc: 0.8675\n",
      "Epoch 4/50\n",
      "130/130 [==============================] - 0s 1ms/step - loss: 0.4256 - auc: 0.8804 - val_loss: 0.3823 - val_auc: 0.9035\n",
      "Epoch 5/50\n",
      "130/130 [==============================] - 0s 1ms/step - loss: 0.4086 - auc: 0.8794 - val_loss: 0.6842 - val_auc: 0.8232\n",
      "Epoch 6/50\n",
      "130/130 [==============================] - 0s 1ms/step - loss: 0.5194 - auc: 0.8331 - val_loss: 0.4289 - val_auc: 0.8940\n",
      "Epoch 7/50\n",
      "130/130 [==============================] - 0s 1ms/step - loss: 0.4042 - auc: 0.8759 - val_loss: 0.4865 - val_auc: 0.8730\n",
      "Epoch 8/50\n",
      "130/130 [==============================] - 0s 1ms/step - loss: 0.3620 - auc: 0.9025 - val_loss: 0.3751 - val_auc: 0.9098\n",
      "Epoch 9/50\n",
      "130/130 [==============================] - 0s 1ms/step - loss: 0.5676 - auc: 0.8166 - val_loss: 0.4751 - val_auc: 0.8999\n",
      "Epoch 10/50\n",
      "130/130 [==============================] - 0s 1ms/step - loss: 0.4724 - auc: 0.8587 - val_loss: 0.3671 - val_auc: 0.9126\n",
      "Epoch 11/50\n",
      "130/130 [==============================] - 0s 1ms/step - loss: 0.3476 - auc: 0.9159 - val_loss: 0.3771 - val_auc: 0.9218\n",
      "Epoch 12/50\n",
      "130/130 [==============================] - 0s 1ms/step - loss: 0.3344 - auc: 0.9229 - val_loss: 0.2950 - val_auc: 0.9412\n",
      "Epoch 13/50\n",
      "130/130 [==============================] - 0s 1ms/step - loss: 0.3075 - auc: 0.9307 - val_loss: 0.2983 - val_auc: 0.9415\n",
      "Epoch 14/50\n",
      "130/130 [==============================] - 0s 1ms/step - loss: 0.3231 - auc: 0.9261 - val_loss: 0.2768 - val_auc: 0.9483\n",
      "Epoch 15/50\n",
      "130/130 [==============================] - 0s 1ms/step - loss: 0.2838 - auc: 0.9442 - val_loss: 0.2597 - val_auc: 0.9525\n",
      "Epoch 16/50\n",
      "130/130 [==============================] - 0s 1ms/step - loss: 0.3053 - auc: 0.9287 - val_loss: 0.3971 - val_auc: 0.9251\n",
      "Epoch 17/50\n",
      "130/130 [==============================] - 0s 1ms/step - loss: 0.3192 - auc: 0.9352 - val_loss: 0.3986 - val_auc: 0.9019\n",
      "Epoch 18/50\n",
      "130/130 [==============================] - 0s 1ms/step - loss: 0.3175 - auc: 0.9368 - val_loss: 0.3450 - val_auc: 0.9405\n",
      "Epoch 19/50\n",
      "130/130 [==============================] - 0s 1ms/step - loss: 0.3053 - auc: 0.9344 - val_loss: 0.2612 - val_auc: 0.9490\n",
      "Epoch 20/50\n",
      "130/130 [==============================] - 0s 1ms/step - loss: 0.3264 - auc: 0.9175 - val_loss: 0.2587 - val_auc: 0.9519\n",
      "Epoch 21/50\n",
      "130/130 [==============================] - 0s 1ms/step - loss: 0.2817 - auc: 0.9421 - val_loss: 0.6107 - val_auc: 0.8961\n",
      "Epoch 22/50\n",
      "130/130 [==============================] - 0s 1ms/step - loss: 0.3194 - auc: 0.9336 - val_loss: 0.2706 - val_auc: 0.9526\n",
      "Epoch 23/50\n",
      "130/130 [==============================] - 0s 1ms/step - loss: 0.2393 - auc: 0.9556 - val_loss: 0.2274 - val_auc: 0.9639\n",
      "Epoch 24/50\n",
      "130/130 [==============================] - 0s 1ms/step - loss: 0.2978 - auc: 0.9377 - val_loss: 0.2252 - val_auc: 0.9636\n",
      "Epoch 25/50\n",
      "130/130 [==============================] - 0s 1ms/step - loss: 0.2770 - auc: 0.9489 - val_loss: 0.2594 - val_auc: 0.9570\n",
      "Epoch 26/50\n",
      "130/130 [==============================] - 0s 1ms/step - loss: 0.2768 - auc: 0.9474 - val_loss: 0.2673 - val_auc: 0.9590\n",
      "Epoch 27/50\n",
      "130/130 [==============================] - 0s 1ms/step - loss: 0.2309 - auc: 0.9614 - val_loss: 0.2628 - val_auc: 0.9625\n",
      "Epoch 28/50\n",
      "130/130 [==============================] - 0s 1ms/step - loss: 0.2944 - auc: 0.9433 - val_loss: 0.2563 - val_auc: 0.9617\n",
      "Epoch 29/50\n",
      "130/130 [==============================] - 0s 1ms/step - loss: 0.2217 - auc: 0.9628 - val_loss: 0.4783 - val_auc: 0.9354\n",
      "Epoch 30/50\n",
      "130/130 [==============================] - 0s 1ms/step - loss: 0.2366 - auc: 0.9602 - val_loss: 0.5179 - val_auc: 0.9224\n",
      "Epoch 31/50\n",
      "130/130 [==============================] - 0s 1ms/step - loss: 0.4125 - auc: 0.8940 - val_loss: 0.2260 - val_auc: 0.9641\n",
      "Epoch 32/50\n",
      "130/130 [==============================] - 0s 1ms/step - loss: 0.2167 - auc: 0.9665 - val_loss: 0.2373 - val_auc: 0.9638\n",
      "Epoch 33/50\n",
      "130/130 [==============================] - 0s 1ms/step - loss: 0.2332 - auc: 0.9603 - val_loss: 0.2128 - val_auc: 0.9686\n",
      "Epoch 34/50\n",
      "130/130 [==============================] - 0s 1ms/step - loss: 0.2138 - auc: 0.9656 - val_loss: 0.2362 - val_auc: 0.9671\n",
      "Epoch 35/50\n",
      "130/130 [==============================] - 0s 1ms/step - loss: 0.1864 - auc: 0.9734 - val_loss: 0.2485 - val_auc: 0.9664\n",
      "Epoch 36/50\n",
      "130/130 [==============================] - 0s 1ms/step - loss: 0.2322 - auc: 0.9617 - val_loss: 0.4216 - val_auc: 0.9596\n",
      "Epoch 37/50\n",
      "130/130 [==============================] - 0s 1ms/step - loss: 0.2546 - auc: 0.9628 - val_loss: 0.2294 - val_auc: 0.9688\n",
      "Epoch 38/50\n",
      "130/130 [==============================] - 0s 1ms/step - loss: 0.3142 - auc: 0.9461 - val_loss: 0.2659 - val_auc: 0.9583\n",
      "Epoch 39/50\n",
      "130/130 [==============================] - 0s 2ms/step - loss: 0.2006 - auc: 0.9704 - val_loss: 0.1992 - val_auc: 0.9715\n",
      "Epoch 40/50\n",
      "130/130 [==============================] - 0s 1ms/step - loss: 0.1929 - auc: 0.9723 - val_loss: 0.1914 - val_auc: 0.9734\n",
      "Epoch 41/50\n",
      "130/130 [==============================] - 0s 1ms/step - loss: 0.1708 - auc: 0.9777 - val_loss: 0.3269 - val_auc: 0.9442\n",
      "Epoch 42/50\n",
      "130/130 [==============================] - 0s 1ms/step - loss: 0.2139 - auc: 0.9672 - val_loss: 0.4487 - val_auc: 0.8599\n",
      "Epoch 43/50\n",
      "130/130 [==============================] - 0s 1ms/step - loss: 0.4462 - auc: 0.9004 - val_loss: 0.2446 - val_auc: 0.9618\n",
      "Epoch 44/50\n",
      "130/130 [==============================] - 0s 1ms/step - loss: 0.2522 - auc: 0.9532 - val_loss: 0.2735 - val_auc: 0.9643\n",
      "Epoch 45/50\n",
      "130/130 [==============================] - 0s 1ms/step - loss: 0.2254 - auc: 0.9668 - val_loss: 0.2098 - val_auc: 0.9684\n",
      "Epoch 46/50\n",
      "130/130 [==============================] - 0s 1ms/step - loss: 0.2080 - auc: 0.9691 - val_loss: 0.3561 - val_auc: 0.9367\n",
      "Epoch 47/50\n",
      "130/130 [==============================] - 0s 1ms/step - loss: 0.2231 - auc: 0.9637 - val_loss: 0.2185 - val_auc: 0.9667\n",
      "Epoch 48/50\n",
      "130/130 [==============================] - 0s 1ms/step - loss: 0.2389 - auc: 0.9590 - val_loss: 0.2179 - val_auc: 0.9687\n",
      "Epoch 49/50\n",
      "130/130 [==============================] - 0s 1ms/step - loss: 0.1883 - auc: 0.9738 - val_loss: 0.5940 - val_auc: 0.8064\n",
      "Epoch 50/50\n",
      "130/130 [==============================] - 0s 1ms/step - loss: 0.3693 - auc: 0.9034 - val_loss: 0.2495 - val_auc: 0.9664\n"
     ]
    },
    {
     "data": {
      "text/plain": [
       "<tensorflow.python.keras.callbacks.History at 0x7fd5a235de50>"
      ]
     },
     "execution_count": 23,
     "metadata": {},
     "output_type": "execute_result"
    }
   ],
   "source": [
    "model.fit(X_train,y_train,epochs=50,validation_data=(X_test,y_test))"
   ]
  },
  {
   "cell_type": "markdown",
   "metadata": {},
   "source": [
    "**The validation metics of area under ROC curve of deep neural network is 0.9664**"
   ]
  },
  {
   "cell_type": "markdown",
   "metadata": {},
   "source": [
    "### Gradient Boosting and PCA"
   ]
  },
  {
   "cell_type": "markdown",
   "metadata": {},
   "source": [
    "Next, another model will be builded. PCA will be applied to reduce the dimension of matrix with selected feature. Gradient boosting will then be used to build the model "
   ]
  },
  {
   "cell_type": "code",
   "execution_count": 25,
   "metadata": {},
   "outputs": [],
   "source": [
    "from sklearn.decomposition import PCA\n",
    "from sklearn.ensemble import GradientBoostingClassifier\n",
    "from sklearn.metrics import f1_score\n",
    "from sklearn.metrics import precision_recall_curve\n",
    "from sklearn.metrics import plot_precision_recall_curve\n",
    "from sklearn.metrics import roc_auc_score"
   ]
  },
  {
   "cell_type": "code",
   "execution_count": 33,
   "metadata": {},
   "outputs": [],
   "source": [
    "#Apply PCA to reduce dimension to preserve 99% of total variance"
   ]
  },
  {
   "cell_type": "code",
   "execution_count": 31,
   "metadata": {},
   "outputs": [],
   "source": [
    "pca = PCA(n_components=0.99)"
   ]
  },
  {
   "cell_type": "code",
   "execution_count": 32,
   "metadata": {},
   "outputs": [
    {
     "data": {
      "text/plain": [
       "21"
      ]
     },
     "execution_count": 32,
     "metadata": {},
     "output_type": "execute_result"
    }
   ],
   "source": [
    "X_pca=pca.fit_transform(X_)\n",
    "pca.n_components_"
   ]
  },
  {
   "cell_type": "code",
   "execution_count": 34,
   "metadata": {},
   "outputs": [],
   "source": [
    "#21 dimensions are obtained by perserving 99% of total variance"
   ]
  },
  {
   "cell_type": "code",
   "execution_count": 35,
   "metadata": {},
   "outputs": [],
   "source": [
    "X_train_p, X_test_p, y_train_p, y_test_p = train_test_split(X_pca, y,test_size=0.2,stratify=y)"
   ]
  },
  {
   "cell_type": "markdown",
   "metadata": {},
   "source": [
    "Apply gradient boosting to the modified matrix"
   ]
  },
  {
   "cell_type": "code",
   "execution_count": 36,
   "metadata": {},
   "outputs": [
    {
     "data": {
      "text/plain": [
       "0.8541062801932368"
      ]
     },
     "execution_count": 36,
     "metadata": {},
     "output_type": "execute_result"
    }
   ],
   "source": [
    "GB=GradientBoostingClassifier(n_estimators=100, learning_rate=1.0,max_depth=2)\n",
    "clf_GB=GB.fit(X_train_p,y_train_p)\n",
    "clf_GB.score(X_test_p,y_test_p)"
   ]
  },
  {
   "cell_type": "markdown",
   "metadata": {},
   "source": [
    "Tune different hyperparameters for gradient boosting"
   ]
  },
  {
   "cell_type": "markdown",
   "metadata": {},
   "source": [
    "pick the one with the highest accuracy score"
   ]
  },
  {
   "cell_type": "code",
   "execution_count": 51,
   "metadata": {},
   "outputs": [
    {
     "name": "stdout",
     "output_type": "stream",
     "text": [
      "1 1 0.8608695652173913\n",
      "1 0.5 0.8541062801932368\n",
      "1 0.1 0.8173913043478261\n",
      "1 0.05 0.8048309178743961\n",
      "2 1 0.8541062801932368\n",
      "2 0.5 0.8676328502415459\n",
      "2 0.1 0.8531400966183574\n",
      "2 0.05 0.8318840579710145\n",
      "3 1 0.8676328502415459\n",
      "3 0.5 0.8666666666666667\n",
      "3 0.1 0.8734299516908213\n",
      "3 0.05 0.8579710144927536\n",
      "4 1 0.8492753623188406\n",
      "4 0.5 0.8734299516908213\n",
      "4 0.1 0.8753623188405797\n",
      "4 0.05 0.863768115942029\n",
      "5 1 0.8695652173913043\n",
      "5 0.5 0.8879227053140096\n",
      "5 0.1 0.8763285024154589\n",
      "5 0.05 0.8801932367149758\n"
     ]
    }
   ],
   "source": [
    "best_score=0\n",
    "for max_depth in range(1,6):\n",
    "    for lr in [1,0.5,0.1,0.05]:\n",
    "        GB=GradientBoostingClassifier(n_estimators=100, learning_rate=lr,max_depth=max_depth)\n",
    "        clf_GB=GB.fit(X_train_p,y_train_p)\n",
    "        score=clf_GB.score(X_test_p,y_test_p)\n",
    "        if score>best_score:\n",
    "            best_score=score\n",
    "            model=clf_GB\n",
    "        print(max_depth,lr,score)"
   ]
  },
  {
   "cell_type": "markdown",
   "metadata": {},
   "source": [
    "Hyperparameter of Gradient boost with the best performace"
   ]
  },
  {
   "cell_type": "code",
   "execution_count": 52,
   "metadata": {},
   "outputs": [
    {
     "data": {
      "text/plain": [
       "GradientBoostingClassifier(learning_rate=0.5, max_depth=5)"
      ]
     },
     "execution_count": 52,
     "metadata": {},
     "output_type": "execute_result"
    }
   ],
   "source": [
    "model"
   ]
  },
  {
   "cell_type": "markdown",
   "metadata": {},
   "source": [
    "Evaluate the model with different metrics"
   ]
  },
  {
   "cell_type": "code",
   "execution_count": 53,
   "metadata": {},
   "outputs": [
    {
     "name": "stdout",
     "output_type": "stream",
     "text": [
      "The accuracy score is 0.8879227053140096\n"
     ]
    }
   ],
   "source": [
    "print(\"The accuracy score is {}\".format(model.score(X_test_p,y_test_p)))"
   ]
  },
  {
   "cell_type": "code",
   "execution_count": 54,
   "metadata": {},
   "outputs": [
    {
     "name": "stdout",
     "output_type": "stream",
     "text": [
      "The f1 score is 0.795053003533569\n"
     ]
    }
   ],
   "source": [
    "print(\"The f1 score is {}\".format(f1_score(y_test_p,model.predict(X_test_p))))"
   ]
  },
  {
   "cell_type": "code",
   "execution_count": 55,
   "metadata": {},
   "outputs": [
    {
     "data": {
      "text/plain": [
       "<sklearn.metrics._plot.precision_recall_curve.PrecisionRecallDisplay at 0x7fd58166a190>"
      ]
     },
     "execution_count": 55,
     "metadata": {},
     "output_type": "execute_result"
    },
    {
     "data": {
      "image/png": "[encoded data removed]",
      "text/plain": [
       "<Figure size 432x288 with 1 Axes>"
      ]
     },
     "metadata": {
      "needs_background": "light"
     },
     "output_type": "display_data"
    }
   ],
   "source": [
    "plot_precision_recall_curve(model, X_test_p, y_test_p)"
   ]
  },
  {
   "cell_type": "code",
   "execution_count": 56,
   "metadata": {},
   "outputs": [
    {
     "name": "stdout",
     "output_type": "stream",
     "text": [
      "The area under ROC curve is 0.8471088435374149\n"
     ]
    }
   ],
   "source": [
    "print(\"The area under ROC curve is {}\".format(roc_auc_score(y_test_p,model.predict(X_test_p))))"
   ]
  },
  {
   "cell_type": "markdown",
   "metadata": {},
   "source": [
    "The model of gradient boosting with PCA perform well according to different metrics."
   ]
  },
  {
   "cell_type": "code",
   "execution_count": null,
   "metadata": {},
   "outputs": [],
   "source": []
  }
 ],
 "metadata": {
  "kernelspec": {
   "display_name": "Python 3",
   "language": "python",
   "name": "python3"
  },
  "language_info": {
   "codemirror_mode": {
    "name": "ipython",
    "version": 3
   },
   "file_extension": ".py",
   "mimetype": "text/x-python",
   "name": "python",
   "nbconvert_exporter": "python",
   "pygments_lexer": "ipython3",
   "version": "3.8.3"
  }
 },
 "nbformat": 4,
 "nbformat_minor": 4
}
