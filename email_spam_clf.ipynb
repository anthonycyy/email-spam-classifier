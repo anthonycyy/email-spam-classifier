{
 "cells": [
  {
   "cell_type": "markdown",
   "metadata": {},
   "source": [
    "<font size=\"6\">Email Spam Classifier"
   ]
  },
  {
   "cell_type": "code",
   "execution_count": 1,
   "metadata": {},
   "outputs": [],
   "source": [
    "import numpy as np\n",
    "import pandas as pd\n",
    "import matplotlib.pyplot as plt\n",
    "import seaborn as sns\n",
    "import sklearn\n",
    "import tensorflow as tf"
   ]
  },
  {
   "cell_type": "code",
   "execution_count": 2,
   "metadata": {},
   "outputs": [],
   "source": [
    "from tensorflow import keras"
   ]
  },
  {
   "cell_type": "code",
   "execution_count": 3,
   "metadata": {},
   "outputs": [],
   "source": [
    "from sklearn.model_selection import train_test_split"
   ]
  },
  {
   "cell_type": "code",
   "execution_count": 4,
   "metadata": {},
   "outputs": [],
   "source": [
    "df=pd.read_csv(\"emails.csv.zip\")\n",
    "df.set_index(\"Email No.\",inplace=True)"
   ]
  },
  {
   "cell_type": "code",
   "execution_count": 5,
   "metadata": {},
   "outputs": [
    {
     "data": {
      "text/html": [
       "<div>\n",
       "<style scoped>\n",
       "    .dataframe tbody tr th:only-of-type {\n",
       "        vertical-align: middle;\n",
       "    }\n",
       "\n",
       "    .dataframe tbody tr th {\n",
       "        vertical-align: top;\n",
       "    }\n",
       "\n",
       "    .dataframe thead th {\n",
       "        text-align: right;\n",
       "    }\n",
       "</style>\n",
       "<table border=\"1\" class=\"dataframe\">\n",
       "  <thead>\n",
       "    <tr style=\"text-align: right;\">\n",
       "      <th></th>\n",
       "      <th>the</th>\n",
       "      <th>to</th>\n",
       "      <th>ect</th>\n",
       "      <th>and</th>\n",
       "      <th>for</th>\n",
       "      <th>of</th>\n",
       "      <th>a</th>\n",
       "      <th>you</th>\n",
       "      <th>hou</th>\n",
       "      <th>in</th>\n",
       "      <th>...</th>\n",
       "      <th>connevey</th>\n",
       "      <th>jay</th>\n",
       "      <th>valued</th>\n",
       "      <th>lay</th>\n",
       "      <th>infrastructure</th>\n",
       "      <th>military</th>\n",
       "      <th>allowing</th>\n",
       "      <th>ff</th>\n",
       "      <th>dry</th>\n",
       "      <th>Prediction</th>\n",
       "    </tr>\n",
       "    <tr>\n",
       "      <th>Email No.</th>\n",
       "      <th></th>\n",
       "      <th></th>\n",
       "      <th></th>\n",
       "      <th></th>\n",
       "      <th></th>\n",
       "      <th></th>\n",
       "      <th></th>\n",
       "      <th></th>\n",
       "      <th></th>\n",
       "      <th></th>\n",
       "      <th></th>\n",
       "      <th></th>\n",
       "      <th></th>\n",
       "      <th></th>\n",
       "      <th></th>\n",
       "      <th></th>\n",
       "      <th></th>\n",
       "      <th></th>\n",
       "      <th></th>\n",
       "      <th></th>\n",
       "      <th></th>\n",
       "    </tr>\n",
       "  </thead>\n",
       "  <tbody>\n",
       "    <tr>\n",
       "      <th>Email 1</th>\n",
       "      <td>0</td>\n",
       "      <td>0</td>\n",
       "      <td>1</td>\n",
       "      <td>0</td>\n",
       "      <td>0</td>\n",
       "      <td>0</td>\n",
       "      <td>2</td>\n",
       "      <td>0</td>\n",
       "      <td>0</td>\n",
       "      <td>0</td>\n",
       "      <td>...</td>\n",
       "      <td>0</td>\n",
       "      <td>0</td>\n",
       "      <td>0</td>\n",
       "      <td>0</td>\n",
       "      <td>0</td>\n",
       "      <td>0</td>\n",
       "      <td>0</td>\n",
       "      <td>0</td>\n",
       "      <td>0</td>\n",
       "      <td>0</td>\n",
       "    </tr>\n",
       "    <tr>\n",
       "      <th>Email 2</th>\n",
       "      <td>8</td>\n",
       "      <td>13</td>\n",
       "      <td>24</td>\n",
       "      <td>6</td>\n",
       "      <td>6</td>\n",
       "      <td>2</td>\n",
       "      <td>102</td>\n",
       "      <td>1</td>\n",
       "      <td>27</td>\n",
       "      <td>18</td>\n",
       "      <td>...</td>\n",
       "      <td>0</td>\n",
       "      <td>0</td>\n",
       "      <td>0</td>\n",
       "      <td>0</td>\n",
       "      <td>0</td>\n",
       "      <td>0</td>\n",
       "      <td>0</td>\n",
       "      <td>1</td>\n",
       "      <td>0</td>\n",
       "      <td>0</td>\n",
       "    </tr>\n",
       "    <tr>\n",
       "      <th>Email 3</th>\n",
       "      <td>0</td>\n",
       "      <td>0</td>\n",
       "      <td>1</td>\n",
       "      <td>0</td>\n",
       "      <td>0</td>\n",
       "      <td>0</td>\n",
       "      <td>8</td>\n",
       "      <td>0</td>\n",
       "      <td>0</td>\n",
       "      <td>4</td>\n",
       "      <td>...</td>\n",
       "      <td>0</td>\n",
       "      <td>0</td>\n",
       "      <td>0</td>\n",
       "      <td>0</td>\n",
       "      <td>0</td>\n",
       "      <td>0</td>\n",
       "      <td>0</td>\n",
       "      <td>0</td>\n",
       "      <td>0</td>\n",
       "      <td>0</td>\n",
       "    </tr>\n",
       "    <tr>\n",
       "      <th>Email 4</th>\n",
       "      <td>0</td>\n",
       "      <td>5</td>\n",
       "      <td>22</td>\n",
       "      <td>0</td>\n",
       "      <td>5</td>\n",
       "      <td>1</td>\n",
       "      <td>51</td>\n",
       "      <td>2</td>\n",
       "      <td>10</td>\n",
       "      <td>1</td>\n",
       "      <td>...</td>\n",
       "      <td>0</td>\n",
       "      <td>0</td>\n",
       "      <td>0</td>\n",
       "      <td>0</td>\n",
       "      <td>0</td>\n",
       "      <td>0</td>\n",
       "      <td>0</td>\n",
       "      <td>0</td>\n",
       "      <td>0</td>\n",
       "      <td>0</td>\n",
       "    </tr>\n",
       "    <tr>\n",
       "      <th>Email 5</th>\n",
       "      <td>7</td>\n",
       "      <td>6</td>\n",
       "      <td>17</td>\n",
       "      <td>1</td>\n",
       "      <td>5</td>\n",
       "      <td>2</td>\n",
       "      <td>57</td>\n",
       "      <td>0</td>\n",
       "      <td>9</td>\n",
       "      <td>3</td>\n",
       "      <td>...</td>\n",
       "      <td>0</td>\n",
       "      <td>0</td>\n",
       "      <td>0</td>\n",
       "      <td>0</td>\n",
       "      <td>0</td>\n",
       "      <td>0</td>\n",
       "      <td>0</td>\n",
       "      <td>1</td>\n",
       "      <td>0</td>\n",
       "      <td>0</td>\n",
       "    </tr>\n",
       "  </tbody>\n",
       "</table>\n",
       "<p>5 rows × 3001 columns</p>\n",
       "</div>"
      ],
      "text/plain": [
       "           the  to  ect  and  for  of    a  you  hou  in  ...  connevey  jay  \\\n",
       "Email No.                                                 ...                  \n",
       "Email 1      0   0    1    0    0   0    2    0    0   0  ...         0    0   \n",
       "Email 2      8  13   24    6    6   2  102    1   27  18  ...         0    0   \n",
       "Email 3      0   0    1    0    0   0    8    0    0   4  ...         0    0   \n",
       "Email 4      0   5   22    0    5   1   51    2   10   1  ...         0    0   \n",
       "Email 5      7   6   17    1    5   2   57    0    9   3  ...         0    0   \n",
       "\n",
       "           valued  lay  infrastructure  military  allowing  ff  dry  \\\n",
       "Email No.                                                             \n",
       "Email 1         0    0               0         0         0   0    0   \n",
       "Email 2         0    0               0         0         0   1    0   \n",
       "Email 3         0    0               0         0         0   0    0   \n",
       "Email 4         0    0               0         0         0   0    0   \n",
       "Email 5         0    0               0         0         0   1    0   \n",
       "\n",
       "           Prediction  \n",
       "Email No.              \n",
       "Email 1             0  \n",
       "Email 2             0  \n",
       "Email 3             0  \n",
       "Email 4             0  \n",
       "Email 5             0  \n",
       "\n",
       "[5 rows x 3001 columns]"
      ]
     },
     "execution_count": 5,
     "metadata": {},
     "output_type": "execute_result"
    }
   ],
   "source": [
    "df.head()"
   ]
  },
  {
   "cell_type": "markdown",
   "metadata": {},
   "source": [
    "In the data set, there are 3000 features which are the frquency of common words in email.\n",
    "<br />The last columns is the prediction whether the email is spam or not.\n",
    "<br />0 - not spam\n",
    "<br />1 - spam"
   ]
  },
  {
   "cell_type": "code",
   "execution_count": 6,
   "metadata": {},
   "outputs": [],
   "source": [
    "#Split the whole dataset into feature matrix and prediction target\n",
    "X=df[[feature for feature in list(df.columns) if feature!=\"Prediction\"]]\n",
    "y=df[\"Prediction\"]"
   ]
  },
  {
   "cell_type": "code",
   "execution_count": 7,
   "metadata": {},
   "outputs": [
    {
     "name": "stdout",
     "output_type": "stream",
     "text": [
      "0\n"
     ]
    }
   ],
   "source": [
    "#check if there is missing value in feature matrix\n",
    "count_is_missing=0\n",
    "for feature in X.columns:\n",
    "    if X[feature].isnull().sum()>0:\n",
    "        count_is_missing+=1\n",
    "print(count_is_missing)"
   ]
  },
  {
   "cell_type": "code",
   "execution_count": 8,
   "metadata": {},
   "outputs": [],
   "source": [
    "#There is no missing data"
   ]
  },
  {
   "cell_type": "markdown",
   "metadata": {},
   "source": [
    "<font size=\"5\">Exploratory data analysis and Feature Engineering"
   ]
  },
  {
   "cell_type": "markdown",
   "metadata": {},
   "source": [
    "There are different kinds of words in the feature. I would like to split the words into 2 categories first.\n",
    "<br /> single_word - word with only one character\n",
    "<br /> multiple_word - word with more than one character\n",
    "<br />It is more common to see word with more than one character"
   ]
  },
  {
   "cell_type": "code",
   "execution_count": 9,
   "metadata": {},
   "outputs": [],
   "source": [
    "single_word=[]\n",
    "multiple_word=[]\n",
    "for feature in X.columns:\n",
    "    if len(feature)==1:\n",
    "        single_word.append(feature)\n",
    "    else:\n",
    "        multiple_word.append(feature)"
   ]
  },
  {
   "cell_type": "markdown",
   "metadata": {},
   "source": [
    "The proportion of spam emails"
   ]
  },
  {
   "cell_type": "code",
   "execution_count": 10,
   "metadata": {},
   "outputs": [
    {
     "data": {
      "text/plain": [
       "0.2900232018561485"
      ]
     },
     "execution_count": 10,
     "metadata": {},
     "output_type": "execute_result"
    }
   ],
   "source": [
    "sum(y)/len(y)"
   ]
  },
  {
   "cell_type": "markdown",
   "metadata": {},
   "source": [
    "There are about 30% of spam emails"
   ]
  },
  {
   "cell_type": "markdown",
   "metadata": {},
   "source": [
    "Filter out the columns which have low standard deviation,ie standard deviation < 1.\n",
    "<br />The words which seldomly appear are not significant."
   ]
  },
  {
   "cell_type": "code",
   "execution_count": 11,
   "metadata": {},
   "outputs": [
    {
     "name": "stdout",
     "output_type": "stream",
     "text": [
      "0\n"
     ]
    }
   ],
   "source": [
    "count_single_word_ls=0\n",
    "for feature in single_word:\n",
    "    if X[feature].std()<1:\n",
    "        count_single_word_ls+=1\n",
    "print(count_single_word_ls)"
   ]
  },
  {
   "cell_type": "markdown",
   "metadata": {},
   "source": [
    "All words will single character do not have low standard deviation."
   ]
  },
  {
   "cell_type": "code",
   "execution_count": 12,
   "metadata": {},
   "outputs": [
    {
     "name": "stdout",
     "output_type": "stream",
     "text": [
      "2724\n"
     ]
    }
   ],
   "source": [
    "count_multiple_word_hs=0\n",
    "for feature in multiple_word:\n",
    "    if X[feature].std()<1:\n",
    "        count_multiple_word_hs+=1\n",
    "print(count_multiple_word_hs)"
   ]
  },
  {
   "cell_type": "markdown",
   "metadata": {},
   "source": [
    "There are 2724 words which seldomly apperar. Ther will not be considered now."
   ]
  },
  {
   "cell_type": "code",
   "execution_count": 13,
   "metadata": {},
   "outputs": [],
   "source": [
    "multiple_word_hs=[]\n",
    "for feature in multiple_word:\n",
    "    if df[feature].std()>=1:\n",
    "        multiple_word_hs.append(feature)"
   ]
  },
  {
   "cell_type": "markdown",
   "metadata": {},
   "source": [
    "<font size=\"5\">\n",
    "Modelling"
   ]
  },
  {
   "cell_type": "markdown",
   "metadata": {},
   "source": [
    "Try diffrent models to build the classifier"
   ]
  },
  {
   "cell_type": "markdown",
   "metadata": {},
   "source": [
    "<font size=\"4\">Deep Neural Network"
   ]
  },
  {
   "cell_type": "code",
   "execution_count": 80,
   "metadata": {},
   "outputs": [],
   "source": [
    "l1=len(multiple_word_hs)"
   ]
  },
  {
   "cell_type": "code",
   "execution_count": 27,
   "metadata": {},
   "outputs": [],
   "source": [
    "X_train, X_test, y_train, y_test = train_test_split(X[multiple_word_hs], y,test_size=0.2,stratify=y)"
   ]
  },
  {
   "cell_type": "code",
   "execution_count": 28,
   "metadata": {},
   "outputs": [],
   "source": [
    "feature=multiple_word_hs"
   ]
  },
  {
   "cell_type": "code",
   "execution_count": 63,
   "metadata": {},
   "outputs": [],
   "source": [
    "model = keras.models.Sequential()\n",
    "model.add(keras.layers.Flatten(input_shape=[len(feature)]))\n",
    "model.add(keras.layers.Dense(200, activation = \"relu\"))\n",
    "model.add(keras.layers.Dense(100, activation = \"relu\"))\n",
    "model.add(keras.layers.Dense(1, activation = \"sigmoid\"))\n",
    "model.compile(loss = \"binary_crossentropy\",optimizer = \"sgd\",metrics=[tf.keras.metrics.PrecisionAtRecall(recall=0.5)])"
   ]
  },
  {
   "cell_type": "code",
   "execution_count": 64,
   "metadata": {},
   "outputs": [
    {
     "name": "stdout",
     "output_type": "stream",
     "text": [
      "Epoch 1/50\n",
      "130/130 [==============================] - 1s 3ms/step - loss: 0.9567 - precision_at_recall: 0.5097 - val_loss: 0.3630 - val_precision_at_recall: 0.8361\n",
      "Epoch 2/50\n",
      "130/130 [==============================] - 0s 1ms/step - loss: 0.3532 - precision_at_recall: 0.8848 - val_loss: 0.3101 - val_precision_at_recall: 0.8830\n",
      "Epoch 3/50\n",
      "130/130 [==============================] - 0s 1ms/step - loss: 0.2754 - precision_at_recall: 0.9415 - val_loss: 0.2942 - val_precision_at_recall: 0.9091\n",
      "Epoch 4/50\n",
      "130/130 [==============================] - 0s 1ms/step - loss: 0.2433 - precision_at_recall: 0.9439 - val_loss: 0.2767 - val_precision_at_recall: 0.8778\n",
      "Epoch 5/50\n",
      "130/130 [==============================] - 0s 1ms/step - loss: 0.2089 - precision_at_recall: 0.9613 - val_loss: 0.2423 - val_precision_at_recall: 0.9615\n",
      "Epoch 6/50\n",
      "130/130 [==============================] - 0s 1ms/step - loss: 0.1909 - precision_at_recall: 0.9704 - val_loss: 0.2247 - val_precision_at_recall: 0.9273\n",
      "Epoch 7/50\n",
      "130/130 [==============================] - 0s 1ms/step - loss: 0.1701 - precision_at_recall: 0.9817 - val_loss: 0.2140 - val_precision_at_recall: 0.9441\n",
      "Epoch 8/50\n",
      "130/130 [==============================] - 0s 1ms/step - loss: 0.1716 - precision_at_recall: 0.9729 - val_loss: 0.2372 - val_precision_at_recall: 0.9259\n",
      "Epoch 9/50\n",
      "130/130 [==============================] - 0s 1ms/step - loss: 0.1484 - precision_at_recall: 0.9829 - val_loss: 0.2249 - val_precision_at_recall: 0.9102\n",
      "Epoch 10/50\n",
      "130/130 [==============================] - 0s 1ms/step - loss: 0.1301 - precision_at_recall: 0.9887 - val_loss: 0.2608 - val_precision_at_recall: 0.9774\n",
      "Epoch 11/50\n",
      "130/130 [==============================] - 0s 1ms/step - loss: 0.1246 - precision_at_recall: 0.9925 - val_loss: 0.1945 - val_precision_at_recall: 0.9695\n",
      "Epoch 12/50\n",
      "130/130 [==============================] - 0s 2ms/step - loss: 0.1135 - precision_at_recall: 0.9920 - val_loss: 0.2008 - val_precision_at_recall: 0.9677\n",
      "Epoch 13/50\n",
      "130/130 [==============================] - 0s 1ms/step - loss: 0.1172 - precision_at_recall: 0.9926 - val_loss: 0.2119 - val_precision_at_recall: 0.9812\n",
      "Epoch 14/50\n",
      "130/130 [==============================] - 0s 1ms/step - loss: 0.1117 - precision_at_recall: 0.9966 - val_loss: 0.1962 - val_precision_at_recall: 0.9780\n",
      "Epoch 15/50\n",
      "130/130 [==============================] - 0s 1ms/step - loss: 0.1544 - precision_at_recall: 0.9846 - val_loss: 0.2552 - val_precision_at_recall: 0.9075\n",
      "Epoch 16/50\n",
      "130/130 [==============================] - 0s 1ms/step - loss: 0.1366 - precision_at_recall: 0.9865 - val_loss: 0.4550 - val_precision_at_recall: 0.8615\n",
      "Epoch 17/50\n",
      "130/130 [==============================] - 0s 1ms/step - loss: 0.1216 - precision_at_recall: 0.9801 - val_loss: 0.1884 - val_precision_at_recall: 0.9701\n",
      "Epoch 18/50\n",
      "130/130 [==============================] - 0s 1ms/step - loss: 0.0868 - precision_at_recall: 0.9942 - val_loss: 0.1927 - val_precision_at_recall: 0.9812\n",
      "Epoch 19/50\n",
      "130/130 [==============================] - 0s 1ms/step - loss: 0.0825 - precision_at_recall: 0.9969 - val_loss: 0.3782 - val_precision_at_recall: 0.9828\n",
      "Epoch 20/50\n",
      "130/130 [==============================] - 0s 1ms/step - loss: 0.0923 - precision_at_recall: 0.9998 - val_loss: 0.2028 - val_precision_at_recall: 0.9821\n",
      "Epoch 21/50\n",
      "130/130 [==============================] - 0s 1ms/step - loss: 0.0905 - precision_at_recall: 0.9996 - val_loss: 0.1884 - val_precision_at_recall: 0.9716\n",
      "Epoch 22/50\n",
      "130/130 [==============================] - 0s 1ms/step - loss: 0.0701 - precision_at_recall: 1.0000 - val_loss: 0.2124 - val_precision_at_recall: 0.9592\n",
      "Epoch 23/50\n",
      "130/130 [==============================] - 0s 1ms/step - loss: 0.0657 - precision_at_recall: 1.0000 - val_loss: 0.1892 - val_precision_at_recall: 0.9872\n",
      "Epoch 24/50\n",
      "130/130 [==============================] - 0s 1ms/step - loss: 0.0572 - precision_at_recall: 0.9994 - val_loss: 0.2222 - val_precision_at_recall: 0.9538\n",
      "Epoch 25/50\n",
      "130/130 [==============================] - 0s 1ms/step - loss: 0.0885 - precision_at_recall: 0.9920 - val_loss: 0.1986 - val_precision_at_recall: 0.9888\n",
      "Epoch 26/50\n",
      "130/130 [==============================] - 0s 1ms/step - loss: 0.0706 - precision_at_recall: 1.0000 - val_loss: 0.1953 - val_precision_at_recall: 0.9793\n",
      "Epoch 27/50\n",
      "130/130 [==============================] - 0s 1ms/step - loss: 0.0603 - precision_at_recall: 0.9999 - val_loss: 0.1804 - val_precision_at_recall: 0.9826\n",
      "Epoch 28/50\n",
      "130/130 [==============================] - 0s 1ms/step - loss: 0.0595 - precision_at_recall: 1.0000 - val_loss: 0.2065 - val_precision_at_recall: 0.9868\n",
      "Epoch 29/50\n",
      "130/130 [==============================] - 0s 1ms/step - loss: 0.0576 - precision_at_recall: 1.0000 - val_loss: 0.1991 - val_precision_at_recall: 0.9887\n",
      "Epoch 30/50\n",
      "130/130 [==============================] - 0s 1ms/step - loss: 0.0502 - precision_at_recall: 1.0000 - val_loss: 0.1998 - val_precision_at_recall: 0.9734\n",
      "Epoch 31/50\n",
      "130/130 [==============================] - 0s 1ms/step - loss: 0.0513 - precision_at_recall: 1.0000 - val_loss: 0.1995 - val_precision_at_recall: 0.9844\n",
      "Epoch 32/50\n",
      "130/130 [==============================] - 0s 1ms/step - loss: 0.0460 - precision_at_recall: 1.0000 - val_loss: 0.2060 - val_precision_at_recall: 0.9695\n",
      "Epoch 33/50\n",
      "130/130 [==============================] - 0s 1ms/step - loss: 0.0441 - precision_at_recall: 1.0000 - val_loss: 0.2064 - val_precision_at_recall: 0.9765\n",
      "Epoch 34/50\n",
      "130/130 [==============================] - 0s 2ms/step - loss: 0.0464 - precision_at_recall: 1.0000 - val_loss: 0.2101 - val_precision_at_recall: 0.9804\n",
      "Epoch 35/50\n",
      "130/130 [==============================] - 0s 2ms/step - loss: 0.0471 - precision_at_recall: 1.0000 - val_loss: 0.2191 - val_precision_at_recall: 0.9695\n",
      "Epoch 36/50\n",
      "130/130 [==============================] - 0s 2ms/step - loss: 0.0353 - precision_at_recall: 1.0000 - val_loss: 0.2219 - val_precision_at_recall: 0.9843\n",
      "Epoch 37/50\n",
      "130/130 [==============================] - 0s 1ms/step - loss: 0.0413 - precision_at_recall: 1.0000 - val_loss: 0.2167 - val_precision_at_recall: 0.9734\n",
      "Epoch 38/50\n",
      "130/130 [==============================] - 0s 1ms/step - loss: 0.0399 - precision_at_recall: 1.0000 - val_loss: 0.2118 - val_precision_at_recall: 0.9714\n",
      "Epoch 39/50\n",
      "130/130 [==============================] - 0s 1ms/step - loss: 0.0343 - precision_at_recall: 1.0000 - val_loss: 0.2289 - val_precision_at_recall: 0.9706\n",
      "Epoch 40/50\n",
      "130/130 [==============================] - 0s 1ms/step - loss: 0.0361 - precision_at_recall: 1.0000 - val_loss: 0.2202 - val_precision_at_recall: 0.9804\n",
      "Epoch 41/50\n",
      "130/130 [==============================] - 0s 1ms/step - loss: 0.0356 - precision_at_recall: 1.0000 - val_loss: 0.2273 - val_precision_at_recall: 0.9706\n",
      "Epoch 42/50\n",
      "130/130 [==============================] - 0s 1ms/step - loss: 0.0385 - precision_at_recall: 0.9995 - val_loss: 0.1795 - val_precision_at_recall: 0.9891\n",
      "Epoch 43/50\n",
      "130/130 [==============================] - 0s 2ms/step - loss: 0.0457 - precision_at_recall: 1.0000 - val_loss: 0.2219 - val_precision_at_recall: 0.9670\n",
      "Epoch 44/50\n",
      "130/130 [==============================] - 0s 2ms/step - loss: 0.0356 - precision_at_recall: 1.0000 - val_loss: 0.2274 - val_precision_at_recall: 0.9748\n",
      "Epoch 45/50\n",
      "130/130 [==============================] - 0s 1ms/step - loss: 0.0293 - precision_at_recall: 1.0000 - val_loss: 0.2237 - val_precision_at_recall: 0.9748\n",
      "Epoch 46/50\n",
      "130/130 [==============================] - 0s 2ms/step - loss: 0.0283 - precision_at_recall: 1.0000 - val_loss: 0.2289 - val_precision_at_recall: 0.9720\n",
      "Epoch 47/50\n",
      "130/130 [==============================] - 0s 2ms/step - loss: 0.0299 - precision_at_recall: 1.0000 - val_loss: 0.2402 - val_precision_at_recall: 0.9710\n",
      "Epoch 48/50\n",
      "130/130 [==============================] - 0s 1ms/step - loss: 0.0243 - precision_at_recall: 1.0000 - val_loss: 0.2473 - val_precision_at_recall: 0.9817\n",
      "Epoch 49/50\n",
      "130/130 [==============================] - 0s 1ms/step - loss: 0.0249 - precision_at_recall: 1.0000 - val_loss: 0.2414 - val_precision_at_recall: 0.9709\n",
      "Epoch 50/50\n",
      "130/130 [==============================] - 0s 1ms/step - loss: 0.0290 - precision_at_recall: 1.0000 - val_loss: 0.2455 - val_precision_at_recall: 0.9712\n"
     ]
    },
    {
     "data": {
      "text/plain": [
       "<tensorflow.python.keras.callbacks.History at 0x7ff02675ddc0>"
      ]
     },
     "execution_count": 64,
     "metadata": {},
     "output_type": "execute_result"
    }
   ],
   "source": [
    "model.fit(X_train,y_train,epochs=50,validation_data=(X_test,y_test))"
   ]
  },
  {
   "cell_type": "code",
   "execution_count": 65,
   "metadata": {},
   "outputs": [
    {
     "data": {
      "text/plain": [
       "array([[False],\n",
       "       [ True],\n",
       "       [ True],\n",
       "       ...,\n",
       "       [ True],\n",
       "       [False],\n",
       "       [ True]])"
      ]
     },
     "execution_count": 65,
     "metadata": {},
     "output_type": "execute_result"
    }
   ],
   "source": [
    "(model.predict(X_test)>0.5)"
   ]
  },
  {
   "cell_type": "code",
   "execution_count": 66,
   "metadata": {},
   "outputs": [
    {
     "ename": "RuntimeError",
     "evalue": "Data adapters should be mutually exclusive for handling inputs. Found multiple adapters [<class 'tensorflow.python.keras.engine.data_adapter.TensorLikeDataAdapter'>, <class 'tensorflow.python.keras.engine.data_adapter.GeneratorDataAdapter'>] to handle input: <class 'pandas.core.frame.DataFrame'>, <class 'pandas.core.series.Series'>",
     "output_type": "error",
     "traceback": [
      "\u001b[0;31m---------------------------------------------------------------------------\u001b[0m",
      "\u001b[0;31mRuntimeError\u001b[0m                              Traceback (most recent call last)",
      "\u001b[0;32m<ipython-input-66-354e6726868f>\u001b[0m in \u001b[0;36m<module>\u001b[0;34m\u001b[0m\n\u001b[1;32m      7\u001b[0m \u001b[0mmodel\u001b[0m\u001b[0;34m.\u001b[0m\u001b[0madd\u001b[0m\u001b[0;34m(\u001b[0m\u001b[0mkeras\u001b[0m\u001b[0;34m.\u001b[0m\u001b[0mlayers\u001b[0m\u001b[0;34m.\u001b[0m\u001b[0mDense\u001b[0m\u001b[0;34m(\u001b[0m\u001b[0;36m1\u001b[0m\u001b[0;34m,\u001b[0m \u001b[0mactivation\u001b[0m \u001b[0;34m=\u001b[0m \u001b[0;34m\"sigmoid\"\u001b[0m\u001b[0;34m)\u001b[0m\u001b[0;34m)\u001b[0m\u001b[0;34m\u001b[0m\u001b[0;34m\u001b[0m\u001b[0m\n\u001b[1;32m      8\u001b[0m \u001b[0mmodel\u001b[0m\u001b[0;34m.\u001b[0m\u001b[0mcompile\u001b[0m\u001b[0;34m(\u001b[0m\u001b[0mloss\u001b[0m \u001b[0;34m=\u001b[0m \u001b[0;34m\"binary_crossentropy\"\u001b[0m\u001b[0;34m,\u001b[0m\u001b[0moptimizer\u001b[0m \u001b[0;34m=\u001b[0m \u001b[0;34m\"sgd\"\u001b[0m\u001b[0;34m,\u001b[0m\u001b[0mmetrics\u001b[0m\u001b[0;34m=\u001b[0m\u001b[0;34m\"accuracy\"\u001b[0m\u001b[0;34m)\u001b[0m\u001b[0;34m\u001b[0m\u001b[0;34m\u001b[0m\u001b[0m\n\u001b[0;32m----> 9\u001b[0;31m \u001b[0mmodel\u001b[0m\u001b[0;34m.\u001b[0m\u001b[0mfit\u001b[0m\u001b[0;34m(\u001b[0m\u001b[0mX_train\u001b[0m\u001b[0;34m,\u001b[0m\u001b[0my_train\u001b[0m\u001b[0;34m,\u001b[0m\u001b[0mepochs\u001b[0m\u001b[0;34m=\u001b[0m\u001b[0;36m50\u001b[0m\u001b[0;34m,\u001b[0m\u001b[0mvalidation_data\u001b[0m\u001b[0;34m=\u001b[0m\u001b[0;34m(\u001b[0m\u001b[0mX_test\u001b[0m\u001b[0;34m,\u001b[0m\u001b[0my_test\u001b[0m\u001b[0;34m)\u001b[0m\u001b[0;34m)\u001b[0m\u001b[0;34m\u001b[0m\u001b[0;34m\u001b[0m\u001b[0m\n\u001b[0m",
      "\u001b[0;32m/opt/anaconda3/lib/python3.8/site-packages/tensorflow/python/keras/engine/training.py\u001b[0m in \u001b[0;36mfit\u001b[0;34m(self, x, y, batch_size, epochs, verbose, callbacks, validation_split, validation_data, shuffle, class_weight, sample_weight, initial_epoch, steps_per_epoch, validation_steps, validation_batch_size, validation_freq, max_queue_size, workers, use_multiprocessing)\u001b[0m\n\u001b[1;32m   1048\u001b[0m          \u001b[0mtraining_utils\u001b[0m\u001b[0;34m.\u001b[0m\u001b[0mRespectCompiledTrainableState\u001b[0m\u001b[0;34m(\u001b[0m\u001b[0mself\u001b[0m\u001b[0;34m)\u001b[0m\u001b[0;34m:\u001b[0m\u001b[0;34m\u001b[0m\u001b[0;34m\u001b[0m\u001b[0m\n\u001b[1;32m   1049\u001b[0m       \u001b[0;31m# Creates a `tf.data.Dataset` and handles batch and epoch iteration.\u001b[0m\u001b[0;34m\u001b[0m\u001b[0;34m\u001b[0m\u001b[0;34m\u001b[0m\u001b[0m\n\u001b[0;32m-> 1050\u001b[0;31m       data_handler = data_adapter.DataHandler(\n\u001b[0m\u001b[1;32m   1051\u001b[0m           \u001b[0mx\u001b[0m\u001b[0;34m=\u001b[0m\u001b[0mx\u001b[0m\u001b[0;34m,\u001b[0m\u001b[0;34m\u001b[0m\u001b[0;34m\u001b[0m\u001b[0m\n\u001b[1;32m   1052\u001b[0m           \u001b[0my\u001b[0m\u001b[0;34m=\u001b[0m\u001b[0my\u001b[0m\u001b[0;34m,\u001b[0m\u001b[0;34m\u001b[0m\u001b[0;34m\u001b[0m\u001b[0m\n",
      "\u001b[0;32m/opt/anaconda3/lib/python3.8/site-packages/tensorflow/python/keras/engine/data_adapter.py\u001b[0m in \u001b[0;36m__init__\u001b[0;34m(self, x, y, sample_weight, batch_size, steps_per_epoch, initial_epoch, epochs, shuffle, class_weight, max_queue_size, workers, use_multiprocessing, model, steps_per_execution)\u001b[0m\n\u001b[1;32m   1097\u001b[0m       \u001b[0mself\u001b[0m\u001b[0;34m.\u001b[0m\u001b[0m_steps_per_execution_value\u001b[0m \u001b[0;34m=\u001b[0m \u001b[0msteps_per_execution\u001b[0m\u001b[0;34m.\u001b[0m\u001b[0mnumpy\u001b[0m\u001b[0;34m(\u001b[0m\u001b[0;34m)\u001b[0m\u001b[0;34m.\u001b[0m\u001b[0mitem\u001b[0m\u001b[0;34m(\u001b[0m\u001b[0;34m)\u001b[0m\u001b[0;34m\u001b[0m\u001b[0;34m\u001b[0m\u001b[0m\n\u001b[1;32m   1098\u001b[0m \u001b[0;34m\u001b[0m\u001b[0m\n\u001b[0;32m-> 1099\u001b[0;31m     \u001b[0madapter_cls\u001b[0m \u001b[0;34m=\u001b[0m \u001b[0mselect_data_adapter\u001b[0m\u001b[0;34m(\u001b[0m\u001b[0mx\u001b[0m\u001b[0;34m,\u001b[0m \u001b[0my\u001b[0m\u001b[0;34m)\u001b[0m\u001b[0;34m\u001b[0m\u001b[0;34m\u001b[0m\u001b[0m\n\u001b[0m\u001b[1;32m   1100\u001b[0m     self._adapter = adapter_cls(\n\u001b[1;32m   1101\u001b[0m         \u001b[0mx\u001b[0m\u001b[0;34m,\u001b[0m\u001b[0;34m\u001b[0m\u001b[0;34m\u001b[0m\u001b[0m\n",
      "\u001b[0;32m/opt/anaconda3/lib/python3.8/site-packages/tensorflow/python/keras/engine/data_adapter.py\u001b[0m in \u001b[0;36mselect_data_adapter\u001b[0;34m(x, y)\u001b[0m\n\u001b[1;32m    964\u001b[0m             _type_name(x), _type_name(y)))\n\u001b[1;32m    965\u001b[0m   \u001b[0;32melif\u001b[0m \u001b[0mlen\u001b[0m\u001b[0;34m(\u001b[0m\u001b[0madapter_cls\u001b[0m\u001b[0;34m)\u001b[0m \u001b[0;34m>\u001b[0m \u001b[0;36m1\u001b[0m\u001b[0;34m:\u001b[0m\u001b[0;34m\u001b[0m\u001b[0;34m\u001b[0m\u001b[0m\n\u001b[0;32m--> 966\u001b[0;31m     raise RuntimeError(\n\u001b[0m\u001b[1;32m    967\u001b[0m         \u001b[0;34m\"Data adapters should be mutually exclusive for \"\u001b[0m\u001b[0;34m\u001b[0m\u001b[0;34m\u001b[0m\u001b[0m\n\u001b[1;32m    968\u001b[0m         \u001b[0;34m\"handling inputs. Found multiple adapters {} to handle \"\u001b[0m\u001b[0;34m\u001b[0m\u001b[0;34m\u001b[0m\u001b[0m\n",
      "\u001b[0;31mRuntimeError\u001b[0m: Data adapters should be mutually exclusive for handling inputs. Found multiple adapters [<class 'tensorflow.python.keras.engine.data_adapter.TensorLikeDataAdapter'>, <class 'tensorflow.python.keras.engine.data_adapter.GeneratorDataAdapter'>] to handle input: <class 'pandas.core.frame.DataFrame'>, <class 'pandas.core.series.Series'>"
     ]
    }
   ],
   "source": [
    "feature=multiple_word_ls\n",
    "X_train, X_test, y_train, y_test = train_test_split(X[feature], y,test_size=0.2,stratify=y)\n",
    "model = keras.models.Sequential()\n",
    "model.add(keras.layers.Flatten(input_shape=[len(feature)]))\n",
    "model.add(keras.layers.Dense(200, activation = \"relu\"))\n",
    "model.add(keras.layers.Dense(100, activation = \"relu\"))\n",
    "model.add(keras.layers.Dense(1, activation = \"sigmoid\"))\n",
    "model.compile(loss = \"binary_crossentropy\",optimizer = \"sgd\",metrics=\"accuracy\")\n",
    "model.fit(X_train,y_train,epochs=50,validation_data=(X_test,y_test))"
   ]
  },
  {
   "cell_type": "code",
   "execution_count": 72,
   "metadata": {},
   "outputs": [],
   "source": [
    "import sympy as sp"
   ]
  },
  {
   "cell_type": "code",
   "execution_count": 74,
   "metadata": {},
   "outputs": [],
   "source": [
    "#sp.Matrix(X[multiple_word_ls]).rref()"
   ]
  },
  {
   "cell_type": "code",
   "execution_count": 75,
   "metadata": {},
   "outputs": [],
   "source": [
    "from sklearn.decomposition import PCA"
   ]
  },
  {
   "cell_type": "code",
   "execution_count": 76,
   "metadata": {},
   "outputs": [],
   "source": [
    "from sklearn.ensemble import GradientBoostingClassifier"
   ]
  },
  {
   "cell_type": "code",
   "execution_count": 77,
   "metadata": {},
   "outputs": [],
   "source": [
    "from sklearn.metrics import f1_score\n",
    "from sklearn.metrics import precision_recall_curve\n",
    "from sklearn.metrics import plot_precision_recall_curve\n",
    "from sklearn.metrics import roc_auc_score"
   ]
  },
  {
   "cell_type": "code",
   "execution_count": 83,
   "metadata": {},
   "outputs": [],
   "source": [
    "pca = PCA(n_components=0.9)"
   ]
  },
  {
   "cell_type": "code",
   "execution_count": 88,
   "metadata": {},
   "outputs": [
    {
     "data": {
      "text/plain": [
       "16"
      ]
     },
     "execution_count": 88,
     "metadata": {},
     "output_type": "execute_result"
    }
   ],
   "source": [
    "X_pca=pca.fit_transform(X[multiple_word_hs])\n",
    "pca.n_components_"
   ]
  },
  {
   "cell_type": "code",
   "execution_count": 89,
   "metadata": {},
   "outputs": [],
   "source": [
    "X_train_p, X_test_p, y_train_p, y_test_p = train_test_split(X_pca, y,test_size=0.3,stratify=y)"
   ]
  },
  {
   "cell_type": "code",
   "execution_count": 90,
   "metadata": {},
   "outputs": [
    {
     "data": {
      "text/plain": [
       "0.8846649484536082"
      ]
     },
     "execution_count": 90,
     "metadata": {},
     "output_type": "execute_result"
    }
   ],
   "source": [
    "GB=GradientBoostingClassifier(n_estimators=100, learning_rate=1.0,max_depth=2)\n",
    "clf_GB=GB.fit(X_train_p,y_train_p)\n",
    "clf_GB.score(X_test_p,y_test_p)"
   ]
  },
  {
   "cell_type": "code",
   "execution_count": 92,
   "metadata": {},
   "outputs": [
    {
     "name": "stdout",
     "output_type": "stream",
     "text": [
      "1 1 0.865979381443299\n",
      "1 0.5 0.8595360824742269\n",
      "1 0.1 0.836340206185567\n",
      "1 0.05 0.8067010309278351\n",
      "2 1 0.8846649484536082\n",
      "2 0.5 0.8807989690721649\n",
      "2 0.1 0.8653350515463918\n",
      "2 0.05 0.8524484536082474\n",
      "3 1 0.8846649484536082\n",
      "3 0.5 0.8969072164948454\n",
      "3 0.1 0.8756443298969072\n",
      "3 0.05 0.875\n",
      "4 1 0.8775773195876289\n",
      "4 0.5 0.8949742268041238\n",
      "4 0.1 0.8878865979381443\n",
      "4 0.05 0.8807989690721649\n",
      "5 1 0.8865979381443299\n",
      "5 0.5 0.895618556701031\n",
      "5 0.1 0.8949742268041238\n",
      "5 0.05 0.8853092783505154\n"
     ]
    }
   ],
   "source": [
    "best_score=0\n",
    "for max_depth in range(1,6):\n",
    "    for lr in [1,0.5,0.1,0.05]:\n",
    "        GB=GradientBoostingClassifier(n_estimators=100, learning_rate=lr,max_depth=max_depth)\n",
    "        clf_GB=GB.fit(X_train_p,y_train_p)\n",
    "        score=clf_GB.score(X_test_p,y_test_p)\n",
    "        if score>best_score:\n",
    "            model=clf_GB\n",
    "        print(max_depth,lr,score)"
   ]
  },
  {
   "cell_type": "code",
   "execution_count": 93,
   "metadata": {},
   "outputs": [
    {
     "data": {
      "text/plain": [
       "GradientBoostingClassifier(learning_rate=0.05, max_depth=5)"
      ]
     },
     "execution_count": 93,
     "metadata": {},
     "output_type": "execute_result"
    }
   ],
   "source": [
    "model"
   ]
  },
  {
   "cell_type": "code",
   "execution_count": 94,
   "metadata": {},
   "outputs": [
    {
     "data": {
      "text/plain": [
       "0.7905882352941176"
      ]
     },
     "execution_count": 94,
     "metadata": {},
     "output_type": "execute_result"
    }
   ],
   "source": [
    "f1_score(y_test_p,model.predict(X_test_p))"
   ]
  },
  {
   "cell_type": "code",
   "execution_count": 95,
   "metadata": {},
   "outputs": [
    {
     "data": {
      "image/png": "[encoded data removed]",
      "text/plain": [
       "<Figure size 432x288 with 1 Axes>"
      ]
     },
     "metadata": {
      "needs_background": "light"
     },
     "output_type": "display_data"
    }
   ],
   "source": [
    "disp = plot_precision_recall_curve(model, X_test_p, y_test_p)"
   ]
  },
  {
   "cell_type": "code",
   "execution_count": 96,
   "metadata": {},
   "outputs": [
    {
     "data": {
      "text/plain": [
       "0.8442952208106472"
      ]
     },
     "execution_count": 96,
     "metadata": {},
     "output_type": "execute_result"
    }
   ],
   "source": [
    "roc_auc_score(y_test_p,model.predict(X_test_p))"
   ]
  },
  {
   "cell_type": "code",
   "execution_count": 100,
   "metadata": {},
   "outputs": [
    {
     "data": {
      "text/plain": [
       "3"
      ]
     },
     "execution_count": 100,
     "metadata": {},
     "output_type": "execute_result"
    }
   ],
   "source": [
    "pca = PCA(n_components=0.95)\n",
    "X_pca=pca.fit_transform(X[multiple_word_hs+single_word])\n",
    "pca.n_components_"
   ]
  },
  {
   "cell_type": "code",
   "execution_count": 103,
   "metadata": {},
   "outputs": [
    {
     "data": {
      "text/plain": [
       "0.7632850241545893"
      ]
     },
     "execution_count": 103,
     "metadata": {},
     "output_type": "execute_result"
    }
   ],
   "source": [
    "X_train_p, X_test_p, y_train_p, y_test_p = train_test_split(X_pca, y,test_size=0.2,stratify=y)\n",
    "GB=GradientBoostingClassifier(n_estimators=100, learning_rate=1.0,max_depth=3)\n",
    "clf_GB=GB.fit(X_train_p,y_train_p)\n",
    "clf_GB.score(X_test_p,y_test_p)"
   ]
  },
  {
   "cell_type": "code",
   "execution_count": 121,
   "metadata": {},
   "outputs": [],
   "source": [
    "def test_pca(f,fraction):\n",
    "    pca = PCA(n_components=fraction)\n",
    "    X_pca=pca.fit_transform(X[f])\n",
    "    return X_pca,pca.n_components_"
   ]
  },
  {
   "cell_type": "code",
   "execution_count": 136,
   "metadata": {},
   "outputs": [
    {
     "data": {
      "text/plain": [
       "77"
      ]
     },
     "execution_count": 136,
     "metadata": {},
     "output_type": "execute_result"
    }
   ],
   "source": [
    "test_pca(multiple_word_hs,0.98)[1]"
   ]
  },
  {
   "cell_type": "code",
   "execution_count": 137,
   "metadata": {},
   "outputs": [
    {
     "data": {
      "text/plain": [
       "0.9227053140096618"
      ]
     },
     "execution_count": 137,
     "metadata": {},
     "output_type": "execute_result"
    }
   ],
   "source": [
    "feature=multiple_word_hs\n",
    "X_train_p, X_test_p, y_train_p, y_test_p = train_test_split(test_pca(feature,0.98)[0], y,test_size=0.2,stratify=y)\n",
    "GB=GradientBoostingClassifier(n_estimators=100, learning_rate=1.0,max_depth=3)\n",
    "clf_GB=GB.fit(X_train_p,y_train_p)\n",
    "clf_GB.score(X_test_p,y_test_p)"
   ]
  },
  {
   "cell_type": "code",
   "execution_count": 169,
   "metadata": {},
   "outputs": [
    {
     "name": "stdout",
     "output_type": "stream",
     "text": [
      "a 87.57417215302422\n",
      "i 77.83222134557691\n",
      "s 66.53003234804453\n",
      "e 126.84550860086814\n",
      "d 37.982822654574086\n",
      "t 94.81531931714301\n",
      "j 6.251980745203282\n",
      "l 47.75650739479314\n",
      "m 36.14048667373415\n",
      "b 20.47025376194114\n",
      "p 28.56735002571789\n",
      "o 85.30076438211206\n",
      "c 51.64292349339328\n",
      "r 71.56791087465915\n",
      "w 17.466854811170318\n",
      "x 5.491958025573854\n",
      "k 10.782849615383574\n",
      "f 23.536181138226418\n",
      "h 40.64931214069405\n",
      "u 31.504662195507844\n",
      "n 76.875463459251\n",
      "g 22.092064371678827\n",
      "v 12.495845086896008\n",
      "y 19.70256872527176\n",
      "z 4.261909706345173\n",
      "q 4.088376033907151\n"
     ]
    }
   ],
   "source": [
    "for word in single_word:\n",
    "    print(word,X[word].std())"
   ]
  },
  {
   "cell_type": "code",
   "execution_count": 139,
   "metadata": {},
   "outputs": [
    {
     "name": "stdout",
     "output_type": "stream",
     "text": [
      "Prediction\n",
      "0    49.485566\n",
      "1    70.283333\n",
      "Name: a, dtype: float64\n",
      "Prediction\n",
      "0    37.150327\n",
      "1    67.174000\n",
      "Name: i, dtype: float64\n",
      "Prediction\n",
      "0    36.092320\n",
      "1    55.813333\n",
      "Name: s, dtype: float64\n",
      "Prediction\n",
      "0     78.294935\n",
      "1    100.708000\n",
      "Name: e, dtype: float64\n",
      "Prediction\n",
      "0    21.315359\n",
      "1    31.736667\n",
      "Name: d, dtype: float64\n",
      "Prediction\n",
      "0    55.259532\n",
      "1    73.252000\n",
      "Name: t, dtype: float64\n",
      "Prediction\n",
      "0    3.903050\n",
      "1    3.482667\n",
      "Name: j, dtype: float64\n",
      "Prediction\n",
      "0    27.632081\n",
      "1    39.234667\n",
      "Name: l, dtype: float64\n",
      "Prediction\n",
      "0    19.166939\n",
      "1    25.862000\n",
      "Name: m, dtype: float64\n",
      "Prediction\n",
      "0    10.676198\n",
      "1    17.268667\n",
      "Name: b, dtype: float64\n",
      "Prediction\n",
      "0    14.571623\n",
      "1    24.578000\n",
      "Name: p, dtype: float64\n",
      "Prediction\n",
      "0    49.284586\n",
      "1    69.331333\n",
      "Name: o, dtype: float64\n",
      "Prediction\n",
      "0    27.371732\n",
      "1    36.120667\n",
      "Name: c, dtype: float64\n",
      "Prediction\n",
      "0    39.550381\n",
      "1    59.763333\n",
      "Name: r, dtype: float64\n",
      "Prediction\n",
      "0     9.90305\n",
      "1    14.60800\n",
      "Name: w, dtype: float64\n",
      "Prediction\n",
      "0    2.082244\n",
      "1    4.324000\n",
      "Name: x, dtype: float64\n",
      "Prediction\n",
      "0    5.833878\n",
      "1    7.821333\n",
      "Name: k, dtype: float64\n",
      "Prediction\n",
      "0    12.327614\n",
      "1    19.681333\n",
      "Name: f, dtype: float64\n",
      "Prediction\n",
      "0    25.569444\n",
      "1    29.796667\n",
      "Name: h, dtype: float64\n",
      "Prediction\n",
      "0    19.565359\n",
      "1    28.224000\n",
      "Name: u, dtype: float64\n",
      "Prediction\n",
      "0    43.011166\n",
      "1    60.560000\n",
      "Name: n, dtype: float64\n",
      "Prediction\n",
      "0    10.819989\n",
      "1    18.182667\n",
      "Name: g, dtype: float64\n",
      "Prediction\n",
      "0     6.395425\n",
      "1    11.258000\n",
      "Name: v, dtype: float64\n",
      "Prediction\n",
      "0    11.733660\n",
      "1    17.285333\n",
      "Name: y, dtype: float64\n",
      "Prediction\n",
      "0    0.62146\n",
      "1    2.33800\n",
      "Name: z, dtype: float64\n",
      "Prediction\n",
      "0    0.712146\n",
      "1    2.240000\n",
      "Name: q, dtype: float64\n"
     ]
    }
   ],
   "source": [
    "for word in single_word:\n",
    "    print(df.groupby(\"Prediction\")[word].mean())"
   ]
  },
  {
   "cell_type": "code",
   "execution_count": 131,
   "metadata": {},
   "outputs": [
    {
     "data": {
      "text/plain": [
       "2724"
      ]
     },
     "execution_count": 131,
     "metadata": {},
     "output_type": "execute_result"
    }
   ],
   "source": [
    "c=0\n",
    "for feature in X.columns:\n",
    "    if X[feature].std()<1:\n",
    "        c+=1\n",
    "c"
   ]
  },
  {
   "cell_type": "code",
   "execution_count": 127,
   "metadata": {},
   "outputs": [],
   "source": [
    "words=multiple_word_hs"
   ]
  },
  {
   "cell_type": "code",
   "execution_count": 128,
   "metadata": {},
   "outputs": [],
   "source": [
    "model = keras.models.Sequential()\n",
    "model.add(keras.layers.Flatten(input_shape=[len(words)]))\n",
    "model.add(keras.layers.Dense(200, activation = \"relu\"))\n",
    "model.add(keras.layers.Dense(100, activation = \"relu\"))\n",
    "model.add(keras.layers.Dense(1, activation = \"sigmoid\"))\n",
    "model.compile(loss = \"binary_crossentropy\",optimizer = \"sgd\",metrics =[\"accuracy\"])"
   ]
  },
  {
   "cell_type": "code",
   "execution_count": 129,
   "metadata": {},
   "outputs": [],
   "source": [
    "X_train_1, X_test_1, y_train_1, y_test_1 = train_test_split(X[words], y,test_size=0.2,stratify=y)"
   ]
  },
  {
   "cell_type": "code",
   "execution_count": 130,
   "metadata": {},
   "outputs": [
    {
     "name": "stdout",
     "output_type": "stream",
     "text": [
      "Epoch 1/50\n",
      "130/130 [==============================] - 0s 2ms/step - loss: 0.6956 - accuracy: 0.7315 - val_loss: 0.3818 - val_accuracy: 0.8454\n",
      "Epoch 2/50\n",
      "130/130 [==============================] - 0s 1ms/step - loss: 0.3549 - accuracy: 0.8427 - val_loss: 0.3099 - val_accuracy: 0.8783\n",
      "Epoch 3/50\n",
      "130/130 [==============================] - 0s 1ms/step - loss: 0.2955 - accuracy: 0.8667 - val_loss: 0.2733 - val_accuracy: 0.9072\n",
      "Epoch 4/50\n",
      "130/130 [==============================] - 0s 1ms/step - loss: 0.2245 - accuracy: 0.9096 - val_loss: 0.2527 - val_accuracy: 0.9005\n",
      "Epoch 5/50\n",
      "130/130 [==============================] - 0s 1ms/step - loss: 0.2292 - accuracy: 0.9020 - val_loss: 0.3098 - val_accuracy: 0.8792\n",
      "Epoch 6/50\n",
      "130/130 [==============================] - 0s 1ms/step - loss: 0.2578 - accuracy: 0.9106 - val_loss: 0.2022 - val_accuracy: 0.9198\n",
      "Epoch 7/50\n",
      "130/130 [==============================] - 0s 1ms/step - loss: 0.1904 - accuracy: 0.9268 - val_loss: 0.1932 - val_accuracy: 0.9256\n",
      "Epoch 8/50\n",
      "130/130 [==============================] - 0s 1ms/step - loss: 0.1684 - accuracy: 0.9292 - val_loss: 0.5280 - val_accuracy: 0.8232\n",
      "Epoch 9/50\n",
      "130/130 [==============================] - 0s 1ms/step - loss: 0.1671 - accuracy: 0.9318 - val_loss: 0.1836 - val_accuracy: 0.9295\n",
      "Epoch 10/50\n",
      "130/130 [==============================] - 0s 1ms/step - loss: 0.1353 - accuracy: 0.9468 - val_loss: 0.1710 - val_accuracy: 0.9343\n",
      "Epoch 11/50\n",
      "130/130 [==============================] - 0s 1ms/step - loss: 0.1669 - accuracy: 0.9423 - val_loss: 0.1694 - val_accuracy: 0.9372\n",
      "Epoch 12/50\n",
      "130/130 [==============================] - 0s 1ms/step - loss: 0.1454 - accuracy: 0.9488 - val_loss: 0.2161 - val_accuracy: 0.9411\n",
      "Epoch 13/50\n",
      "130/130 [==============================] - 0s 1ms/step - loss: 0.1169 - accuracy: 0.9596 - val_loss: 0.9297 - val_accuracy: 0.8348\n",
      "Epoch 14/50\n",
      "130/130 [==============================] - 0s 1ms/step - loss: 0.1813 - accuracy: 0.9442 - val_loss: 0.1662 - val_accuracy: 0.9430\n",
      "Epoch 15/50\n",
      "130/130 [==============================] - 0s 1ms/step - loss: 0.1072 - accuracy: 0.9604 - val_loss: 0.1551 - val_accuracy: 0.9459\n",
      "Epoch 16/50\n",
      "130/130 [==============================] - 0s 1ms/step - loss: 0.0921 - accuracy: 0.9716 - val_loss: 0.1539 - val_accuracy: 0.9449\n",
      "Epoch 17/50\n",
      "130/130 [==============================] - 0s 1ms/step - loss: 0.0925 - accuracy: 0.9682 - val_loss: 0.1684 - val_accuracy: 0.9401\n",
      "Epoch 18/50\n",
      "130/130 [==============================] - 0s 1ms/step - loss: 0.1010 - accuracy: 0.9627 - val_loss: 1.0546 - val_accuracy: 0.8522\n",
      "Epoch 19/50\n",
      "130/130 [==============================] - 0s 1ms/step - loss: 0.1862 - accuracy: 0.9466 - val_loss: 0.1397 - val_accuracy: 0.9478\n",
      "Epoch 20/50\n",
      "130/130 [==============================] - 0s 1ms/step - loss: 0.0869 - accuracy: 0.9719 - val_loss: 0.1681 - val_accuracy: 0.9449\n",
      "Epoch 21/50\n",
      "130/130 [==============================] - 0s 1ms/step - loss: 0.0832 - accuracy: 0.9716 - val_loss: 0.1422 - val_accuracy: 0.9536\n",
      "Epoch 22/50\n",
      "130/130 [==============================] - 0s 1ms/step - loss: 0.0698 - accuracy: 0.9765 - val_loss: 0.1418 - val_accuracy: 0.9488\n",
      "Epoch 23/50\n",
      "130/130 [==============================] - 0s 1ms/step - loss: 0.0751 - accuracy: 0.9752 - val_loss: 0.1498 - val_accuracy: 0.9498\n",
      "Epoch 24/50\n",
      "130/130 [==============================] - 0s 1ms/step - loss: 0.0694 - accuracy: 0.9793 - val_loss: 0.1519 - val_accuracy: 0.9536\n",
      "Epoch 25/50\n",
      "130/130 [==============================] - 0s 1ms/step - loss: 0.0673 - accuracy: 0.9748 - val_loss: 0.7185 - val_accuracy: 0.8734\n",
      "Epoch 26/50\n",
      "130/130 [==============================] - 0s 1ms/step - loss: 0.1656 - accuracy: 0.9648 - val_loss: 0.1629 - val_accuracy: 0.9430\n",
      "Epoch 27/50\n",
      "130/130 [==============================] - 0s 1ms/step - loss: 0.0650 - accuracy: 0.9821 - val_loss: 0.1348 - val_accuracy: 0.9546\n",
      "Epoch 28/50\n",
      "130/130 [==============================] - 0s 2ms/step - loss: 0.0608 - accuracy: 0.9799 - val_loss: 0.1432 - val_accuracy: 0.9536\n",
      "Epoch 29/50\n",
      "130/130 [==============================] - 0s 1ms/step - loss: 0.0668 - accuracy: 0.9802 - val_loss: 0.1338 - val_accuracy: 0.9536\n",
      "Epoch 30/50\n",
      "130/130 [==============================] - 0s 1ms/step - loss: 0.0575 - accuracy: 0.9813 - val_loss: 0.1404 - val_accuracy: 0.9546\n",
      "Epoch 31/50\n",
      "130/130 [==============================] - 0s 1ms/step - loss: 0.0564 - accuracy: 0.9847 - val_loss: 0.1527 - val_accuracy: 0.9527\n",
      "Epoch 32/50\n",
      "130/130 [==============================] - 0s 1ms/step - loss: 0.0558 - accuracy: 0.9848 - val_loss: 0.1437 - val_accuracy: 0.9527\n",
      "Epoch 33/50\n",
      "130/130 [==============================] - 0s 1ms/step - loss: 0.0566 - accuracy: 0.9825 - val_loss: 0.1419 - val_accuracy: 0.9546\n",
      "Epoch 34/50\n",
      "130/130 [==============================] - 0s 1ms/step - loss: 0.0457 - accuracy: 0.9892 - val_loss: 0.1380 - val_accuracy: 0.9546\n",
      "Epoch 35/50\n",
      "130/130 [==============================] - 0s 1ms/step - loss: 0.0429 - accuracy: 0.9898 - val_loss: 0.1396 - val_accuracy: 0.9527\n",
      "Epoch 36/50\n",
      "130/130 [==============================] - 0s 1ms/step - loss: 0.0415 - accuracy: 0.9874 - val_loss: 0.1366 - val_accuracy: 0.9527\n",
      "Epoch 37/50\n",
      "130/130 [==============================] - 0s 1ms/step - loss: 0.0457 - accuracy: 0.9844 - val_loss: 0.1481 - val_accuracy: 0.9536\n",
      "Epoch 38/50\n",
      "130/130 [==============================] - 0s 1ms/step - loss: 0.0430 - accuracy: 0.9887 - val_loss: 2.2349 - val_accuracy: 0.8135\n",
      "Epoch 39/50\n",
      "130/130 [==============================] - 0s 1ms/step - loss: 0.3102 - accuracy: 0.9635 - val_loss: 0.2629 - val_accuracy: 0.9333\n",
      "Epoch 40/50\n",
      "130/130 [==============================] - 0s 1ms/step - loss: 0.1966 - accuracy: 0.9688 - val_loss: 0.1233 - val_accuracy: 0.9585\n",
      "Epoch 41/50\n",
      "130/130 [==============================] - 0s 1ms/step - loss: 0.0410 - accuracy: 0.9898 - val_loss: 0.1320 - val_accuracy: 0.9565\n",
      "Epoch 42/50\n",
      "130/130 [==============================] - 0s 1ms/step - loss: 0.0385 - accuracy: 0.9900 - val_loss: 0.1339 - val_accuracy: 0.9546\n",
      "Epoch 43/50\n",
      "130/130 [==============================] - 0s 1ms/step - loss: 0.0379 - accuracy: 0.9888 - val_loss: 0.1359 - val_accuracy: 0.9546\n",
      "Epoch 44/50\n",
      "130/130 [==============================] - 0s 1ms/step - loss: 0.0322 - accuracy: 0.9926 - val_loss: 0.1434 - val_accuracy: 0.9546\n",
      "Epoch 45/50\n",
      "130/130 [==============================] - 0s 1ms/step - loss: 0.0319 - accuracy: 0.9945 - val_loss: 0.1431 - val_accuracy: 0.9536\n",
      "Epoch 46/50\n",
      "130/130 [==============================] - 0s 1ms/step - loss: 0.1036 - accuracy: 0.9842 - val_loss: 0.1625 - val_accuracy: 0.9478\n",
      "Epoch 47/50\n",
      "130/130 [==============================] - 0s 1ms/step - loss: 0.1176 - accuracy: 0.9725 - val_loss: 0.1272 - val_accuracy: 0.9507\n",
      "Epoch 48/50\n",
      "130/130 [==============================] - 0s 1ms/step - loss: 0.0421 - accuracy: 0.9899 - val_loss: 0.1216 - val_accuracy: 0.9565\n",
      "Epoch 49/50\n",
      "130/130 [==============================] - 0s 1ms/step - loss: 0.0342 - accuracy: 0.9918 - val_loss: 0.1298 - val_accuracy: 0.9575\n",
      "Epoch 50/50\n",
      "130/130 [==============================] - 0s 1ms/step - loss: 0.0292 - accuracy: 0.9935 - val_loss: 0.1421 - val_accuracy: 0.9575\n"
     ]
    },
    {
     "data": {
      "text/plain": [
       "<tensorflow.python.keras.callbacks.History at 0x7fef65a532b0>"
      ]
     },
     "execution_count": 130,
     "metadata": {},
     "output_type": "execute_result"
    }
   ],
   "source": [
    "model.fit(X_train_1,y_train_1,epochs=50,validation_data=(X_test_1,y_test_1))"
   ]
  },
  {
   "cell_type": "code",
   "execution_count": 142,
   "metadata": {},
   "outputs": [
    {
     "name": "stdout",
     "output_type": "stream",
     "text": [
      "Prediction\n",
      "0    0.632839\n",
      "1    0.367161\n",
      "Name: a, dtype: float64\n",
      "Prediction\n",
      "0    0.575165\n",
      "1    0.424835\n",
      "Name: i, dtype: float64\n",
      "Prediction\n",
      "0    0.612857\n",
      "1    0.387143\n",
      "Name: s, dtype: float64\n",
      "Prediction\n",
      "0    0.655551\n",
      "1    0.344449\n",
      "Name: e, dtype: float64\n",
      "Prediction\n",
      "0    0.621807\n",
      "1    0.378193\n",
      "Name: d, dtype: float64\n",
      "Prediction\n",
      "0    0.648718\n",
      "1    0.351282\n",
      "Name: t, dtype: float64\n",
      "Prediction\n",
      "0    0.73287\n",
      "1    0.26713\n",
      "Name: j, dtype: float64\n",
      "Prediction\n",
      "0    0.632902\n",
      "1    0.367098\n",
      "Name: l, dtype: float64\n",
      "Prediction\n",
      "0    0.644668\n",
      "1    0.355332\n",
      "Name: m, dtype: float64\n",
      "Prediction\n",
      "0    0.602141\n",
      "1    0.397859\n",
      "Name: b, dtype: float64\n",
      "Prediction\n",
      "0    0.592062\n",
      "1    0.407938\n",
      "Name: p, dtype: float64\n",
      "Prediction\n",
      "0    0.63506\n",
      "1    0.36494\n",
      "Name: o, dtype: float64\n",
      "Prediction\n",
      "0    0.649745\n",
      "1    0.350255\n",
      "Name: c, dtype: float64\n",
      "Prediction\n",
      "0    0.618327\n",
      "1    0.381673\n",
      "Name: r, dtype: float64\n",
      "Prediction\n",
      "0    0.623996\n",
      "1    0.376004\n",
      "Name: w, dtype: float64\n",
      "Prediction\n",
      "0    0.541042\n",
      "1    0.458958\n",
      "Name: x, dtype: float64\n",
      "Prediction\n",
      "0    0.646136\n",
      "1    0.353864\n",
      "Name: k, dtype: float64\n",
      "Prediction\n",
      "0    0.605263\n",
      "1    0.394737\n",
      "Name: f, dtype: float64\n",
      "Prediction\n",
      "0    0.677493\n",
      "1    0.322507\n",
      "Name: h, dtype: float64\n",
      "Prediction\n",
      "0    0.629217\n",
      "1    0.370783\n",
      "Name: u, dtype: float64\n",
      "Prediction\n",
      "0    0.634854\n",
      "1    0.365146\n",
      "Name: n, dtype: float64\n",
      "Prediction\n",
      "0    0.592956\n",
      "1    0.407044\n",
      "Name: g, dtype: float64\n",
      "Prediction\n",
      "0    0.581705\n",
      "1    0.418295\n",
      "Name: v, dtype: float64\n",
      "Prediction\n",
      "0    0.624308\n",
      "1    0.375692\n",
      "Name: y, dtype: float64\n",
      "Prediction\n",
      "0    0.394196\n",
      "1    0.605804\n",
      "Name: z, dtype: float64\n",
      "Prediction\n",
      "0    0.437657\n",
      "1    0.562343\n",
      "Name: q, dtype: float64\n"
     ]
    }
   ],
   "source": [
    "for word in single_word:\n",
    "    print(df.groupby(\"Prediction\")[word].sum()/df[word].sum())"
   ]
  },
  {
   "cell_type": "code",
   "execution_count": null,
   "metadata": {},
   "outputs": [],
   "source": []
  }
 ],
 "metadata": {
  "kernelspec": {
   "display_name": "Python 3",
   "language": "python",
   "name": "python3"
  },
  "language_info": {
   "codemirror_mode": {
    "name": "ipython",
    "version": 3
   },
   "file_extension": ".py",
   "mimetype": "text/x-python",
   "name": "python",
   "nbconvert_exporter": "python",
   "pygments_lexer": "ipython3",
   "version": "3.8.3"
  }
 },
 "nbformat": 4,
 "nbformat_minor": 4
}
